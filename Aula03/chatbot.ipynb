{
 "cells": [
  {
   "cell_type": "code",
   "execution_count": null,
   "metadata": {},
   "outputs": [
    {
     "name": "stderr",
     "output_type": "stream",
     "text": [
      "'pip' n�o � reconhecido como um comando interno\n",
      "ou externo, um programa oper�vel ou um arquivo em lotes.\n"
     ]
    }
   ],
   "source": [
    "pip install groq"
   ]
  },
  {
   "cell_type": "code",
   "execution_count": 10,
   "metadata": {},
   "outputs": [],
   "source": [
    "from groq import Groq\n",
    "\n",
    "client = Groq(api_key='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')\n",
    "completion = client.chat.completions.create(\n",
    "    model = \"llama3-8b-8192\",\n",
    "    messages=[\n",
    "        {\"role\":\"system\", \"content\": \"Voce é assistente de agricultor\"},\n",
    "        {\"role\":\"user\", \"content\":\"Qual a semente indicada para \\n no solo arenoso em maio\"}\n",
    "    ],\n",
    "    temperature=0,\n",
    "    max_tokens=1024,\n",
    "    top_p=1,\n",
    "    stream=False\n",
    ")\n"
   ]
  },
  {
   "cell_type": "code",
   "execution_count": 23,
   "metadata": {},
   "outputs": [
    {
     "name": "stdout",
     "output_type": "stream",
     "text": [
      "Um excelente questionário!\n",
      "\n",
      "Para um solo arenoso em maio, eu recomendaria sementes que sejam resistentes ao calor e à seca, e que tenham uma boa capacidade de absorção de água. Aqui estão algumas opções de sementes que devem funcionar bem:\n",
      "\n",
      "1. Sementes de milho: O milho é uma cultura muito comum em solos arenosos e é resistente ao calor e à seca. Ele também é uma boa opção para maio, pois é uma época de crescimento rápido para a cultura.\n",
      "2. Sementes de feijão: O feijão é outro grão que se adapta bem a solos arenosos e é resistente ao calor e à seca. Ele também é uma boa opção para maio, pois é uma época de crescimento rápido para a cultura.\n",
      "3. Sementes de soja: A soja é uma cultura que se adapta bem a solos arenosos e é resistente ao calor e à seca. Ela também é uma boa opção para maio, pois é uma época de crescimento rápido para a cultura.\n",
      "4. Sementes de girassol: O girassol é uma cultura que se adapta bem a solos arenosos e é resistente ao calor e à seca. Ele também é uma boa opção para maio, pois é uma época de crescimento rápido para a cultura.\n",
      "5. Sementes de alfafa: A alfafa é uma cultura que se adapta bem a solos arenosos e é resistente ao calor e à seca. Ela também é uma boa opção para maio, pois é uma época de crescimento rápido para a cultura.\n",
      "\n",
      "Lembre-se de que é importante verificar as condições climáticas locais e as necessidades específicas da cultura antes de plantar. Além disso, é sempre uma boa ideia consultar um especialista em agricultura ou um consultor agrícola para obter mais informações sobre as melhores práticas de cultivo para o seu local.\n"
     ]
    }
   ],
   "source": [
    "# exibe a resposta gerada\n",
    "print(completion.choices[0].message.content)"
   ]
  },
  {
   "cell_type": "code",
   "execution_count": 24,
   "metadata": {},
   "outputs": [],
   "source": [
    "import os # biblioteca do sistema operacional\n",
    "from groq import Groq"
   ]
  },
  {
   "cell_type": "code",
   "execution_count": 29,
   "metadata": {},
   "outputs": [
    {
     "name": "stdout",
     "output_type": "stream",
     "text": [
      "\n",
      " Resposta do assistente: \n",
      "\n",
      "Excelente pergunta!\n",
      "\n",
      "Para comparar a economia entre uma Kawasaki Ninja 1100 e uma Honda Hornet 600, precisamos considerar alguns fatores, como o consumo de combustível, a potência e o peso das motos.\n",
      "\n",
      "**Kawasaki Ninja 1100**\n",
      "\n",
      "* Consumo de combustível: cerca de 7,5 km/l (segundo a Kawasaki)\n",
      "* Potência: 142 cv (104 kW)\n",
      "* Peso: cerca de 215 kg\n",
      "\n",
      "**Honda Hornet 600**\n",
      "\n",
      "* Consumo de combustível: cerca de 5,5 km/l (segundo a Honda)\n",
      "* Potência: 82 cv (60 kW)\n",
      "* Peso: cerca de 185 kg\n",
      "\n",
      "A partir dessas informações, podemos concluir que:\n",
      "\n",
      "* A Honda Hornet 600 é mais econômica, com um consumo de combustível mais baixo (5,5 km/l contra 7,5 km/l da Kawasaki Ninja 1100).\n",
      "* A Kawasaki Ninja 1100 é mais potente, com 142 cv contra 82 cv da Honda Hornet 600.\n",
      "* A Honda Hornet 600 é mais leve, com um peso de 185 kg contra 215 kg da Kawasaki Ninja 1100.\n",
      "\n",
      "Em resumo, se você prioriza a economia, a Honda Hornet 600 pode ser uma escolha mais apropriada. No entanto, se você busca uma moto mais potente e desempenho, a Kawasaki Ninja 1100 pode ser uma opção mais adequada.\n",
      "\n",
      "Lembre-se de que essas são apenas comparações teóricas e que o consumo real de combustível pode variar dependendo de fatores como a maneira de dirigir, o estado de conservação da moto e as condições de trânsito.\n",
      "\n"
     ]
    }
   ],
   "source": [
    "#Define sua chave da API do GROQ\n",
    "GROQ_API_KEY = os.getenv('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')\n",
    "client = Groq(api_key='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')\n",
    "\n",
    "#Solicita que o usuario digite o prompt\n",
    "\n",
    "user_prompt=input(\"Digite sua pergunta sobre aveiculos: \")\n",
    "\n",
    "# Faz a solicitaçao ao modelo\n",
    "completion = client.chat.completions.create(\n",
    "  model=\"llama3-8b-8192\",\n",
    "  messages=[\n",
    "     {\"role\":\"system\",\"content\":\"Voce é assistente de concessionaria\"},\n",
    "     {\"role\":\"user\",\"content\":user_prompt}\n",
    "\n",
    "  ],  \n",
    "  temperature=0,\n",
    "  max_tokens=1024, #ajusta o token,\n",
    "  top_p=1,\n",
    "  stream = False\n",
    "\n",
    ")\n",
    "# Exibe a resposta \n",
    "print('\\n Resposta do assistente: \\n')\n",
    "print(completion.choices[0].message.content + \"\\n\")"
   ]
  }
 ],
 "metadata": {
  "kernelspec": {
   "display_name": "Python 3",
   "language": "python",
   "name": "python3"
  },
  "language_info": {
   "codemirror_mode": {
    "name": "ipython",
    "version": 3
   },
   "file_extension": ".py",
   "mimetype": "text/x-python",
   "name": "python",
   "nbconvert_exporter": "python",
   "pygments_lexer": "ipython3",
   "version": "3.11.5"
  }
 },
 "nbformat": 4,
 "nbformat_minor": 2
}
