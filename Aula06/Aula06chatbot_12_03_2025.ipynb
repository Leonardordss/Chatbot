{
  "cells": [
    {
      "cell_type": "code",
      "execution_count": 3,
      "metadata": {
        "id": "28aey5WhbiNm"
      },
      "outputs": [],
      "source": [
        "# Desenvolvimento de um chatbot especialista para venda de cafe online\n",
        "\n",
        "!pip install -q llama-index"
      ]
    },
    {
      "cell_type": "code",
      "execution_count": 4,
      "metadata": {
        "id": "VaRN4P4Qdfhv"
      },
      "outputs": [],
      "source": [
        "# biblioteca para permitir a leitura de arquivos pdf\n",
        "from llama_index.core import SimpleDirectoryReader\n",
        "documentos = SimpleDirectoryReader(input_dir='documentos')"
      ]
    },
    {
      "cell_type": "code",
      "execution_count": 5,
      "metadata": {
        "colab": {
          "base_uri": "https://localhost:8080/"
        },
        "id": "PmZ_1Fzod8K_",
        "outputId": "a4bda1b1-559f-46d2-9b20-f0c3265c447c"
      },
      "outputs": [
        {
          "data": {
            "text/plain": [
              "[PosixPath('/content/documentos/serenatto_cafes_especiais.pdf')]"
            ]
          },
          "execution_count": 5,
          "metadata": {},
          "output_type": "execute_result"
        }
      ],
      "source": [
        "documentos.input_files # caminho do arquivo adicionado"
      ]
    },
    {
      "cell_type": "code",
      "execution_count": 6,
      "metadata": {
        "id": "N5WW1itSeKvi"
      },
      "outputs": [],
      "source": [
        "docs = documentos.load_data() # armazena o documento carregado"
      ]
    },
    {
      "cell_type": "code",
      "execution_count": 7,
      "metadata": {
        "colab": {
          "base_uri": "https://localhost:8080/"
        },
        "id": "ZlwJ5ILheSVG",
        "outputId": "d451373d-2f3d-4d41-9a5e-fdfc82ffcc3f"
      },
      "outputs": [
        {
          "data": {
            "text/plain": [
              "[Document(id_='05c544fa-5573-49e4-aafd-4042173388a8', embedding=None, metadata={'page_label': '1', 'file_name': 'serenatto_cafes_especiais.pdf', 'file_path': '/content/documentos/serenatto_cafes_especiais.pdf', 'file_type': 'application/pdf', 'file_size': 133957, 'creation_date': '2025-03-12', 'last_modified_date': '2025-03-12'}, excluded_embed_metadata_keys=['file_name', 'file_type', 'file_size', 'creation_date', 'last_modified_date', 'last_accessed_date'], excluded_llm_metadata_keys=['file_name', 'file_type', 'file_size', 'creation_date', 'last_modified_date', 'last_accessed_date'], relationships={}, metadata_template='{key}: {value}', metadata_separator='\\n', text_resource=MediaResource(embeddings=None, data=None, text='Serenatto  –  Loja  online  de  cafés  especiais   Informações  gerais   P:  Quais  produtos  são  vendidos  no  site  da  Serenatto?  R:  A  Serenatto  é  uma  loja  online  especializada  na  venda  de  grãos  de  cafés  especiais,  \\noferecendo\\n \\ngrãos\\n \\ntorrados,\\n \\nprovenientes\\n \\nde\\n \\nfazendas\\n \\nselecionadas\\n \\nde\\n \\nMinas\\n \\nGerais.\\n \\nTodos\\n \\nos\\n \\nnossos\\n \\ncafés\\n \\npossuem\\n \\nnota\\n \\nSCA\\n \\nacima\\n \\nde\\n \\n80,\\n \\ngarantindo\\n \\nalta\\n \\nqualidade\\n \\ne\\n \\nperfis\\n \\nsensoriais\\n \\nexcepcionais.\\n  P:  De  onde  vêm  os  grãos  de  café  da  Serenatto?   R:  Nossos  grãos  são  cuidadosamente  selecionados  de  fazendas  localizadas  em  Minas  \\nGerais,\\n \\nconhecidas\\n \\npela\\n \\nalta\\n \\nqualidade\\n \\nde\\n \\nseus\\n \\ncafés\\n \\nespeciais.\\n \\nCada\\n \\nfazenda\\n \\né\\n \\nescolhida\\n \\npor\\n \\nsuas\\n \\npráticas\\n \\nsustentáveis\\n \\ne\\n \\npelo\\n \\ncuidado\\n \\nexcepcional\\n \\ncom\\n \\na\\n \\nprodução.\\n  P:  Qual  é  a  quantidade  vendida?  R:  Os  grãos  já  torrados  são  vendidos  em  pacotes  de  250g   P:  Quais  são  as  variedades  de  café  disponíveis?  R:  Trabalhamos  com  as  seguintes  variedades  de  café  em  grãos:  ●  Bourbon  vermelho  ●  Bourbon  amarelo  ●  Blend  especial  (Mistura  de  Bourbon  amarelo  e  vermelho)  ●  Catuaí  amarelo  ●  Geisha  ●  Yirgacheffe   P:  Quais  são  os  preços  de  cada  variedade  de  café?  R:  Os  preços  sãos  os  seguintes:  ●  Bourbon  vermelho:  R$  41,00  ●  Bourbon  amarelo:  R$  43,00  ●  Blend  especial:  R$  37,50  ●  Catuaí  amarelo:  R$  55,00  ●  Geisha:  R$  105,00  ●  Yirgacheffe:  R$  110,00      ', path=None, url=None, mimetype=None), image_resource=None, audio_resource=None, video_resource=None, text_template='{metadata_str}\\n\\n{content}'),\n",
              " Document(id_='c6a4c569-3d60-4883-b746-e92ab59cea7a', embedding=None, metadata={'page_label': '2', 'file_name': 'serenatto_cafes_especiais.pdf', 'file_path': '/content/documentos/serenatto_cafes_especiais.pdf', 'file_type': 'application/pdf', 'file_size': 133957, 'creation_date': '2025-03-12', 'last_modified_date': '2025-03-12'}, excluded_embed_metadata_keys=['file_name', 'file_type', 'file_size', 'creation_date', 'last_modified_date', 'last_accessed_date'], excluded_llm_metadata_keys=['file_name', 'file_type', 'file_size', 'creation_date', 'last_modified_date', 'last_accessed_date'], relationships={}, metadata_template='{key}: {value}', metadata_separator='\\n', text_resource=MediaResource(embeddings=None, data=None, text='P:  A  Serenatto  oferece  cafés  descafeinados?  R:  No  momento,  trabalhamos  apenas  com  cafés  especiais  que  contêm  cafeína.  Todos  \\nos\\n \\nnossos\\n \\ngrãos\\n \\nsão\\n \\nselecionados\\n \\npara\\n \\noferecer\\n \\na\\n \\nmelhor\\n \\nexperiência\\n \\nsensorial,\\n \\nmas\\n \\nnão\\n \\ntemos\\n \\nopções\\n \\ndescafeinadas\\n \\nem\\n \\nnosso\\n \\nportfólio.\\n  P:  Vocês  enviam  para  todos  os  estados  brasileiros?  R:  Sim,  os  cafés  são  enviados  para  todos  os  estados  brasileiros.    P:  Qual  é  o  prazo  de  envio?  R:  O  envio  dos  pedidos  é  realizado  em  até  3  dias  úteis  após  a  confirmação  do  \\npagamento,\\n \\npois\\n \\nenviamos\\n \\no\\n \\ncafé\\n \\nrecém\\n \\ntorrado\\n \\npara\\n \\ngarantir\\n \\nfrescor\\n \\ne\\n \\nqualidade.\\n  P:  Quais  são  os  métodos  de  pagamento  aceitos?  R:  Aceitamos  PIX,  boleto  bancário  e  cartão  de  crédito.   P:  Vocês  oferecem  cursos  ou  workshops  sobre  café?  R:  Estamos  planejando  oferecer  workshops  e  cursos  sobre  métodos  de  preparo  e  \\ndegustação\\n \\nde\\n \\ncafé\\n \\nem\\n \\nbreve.\\n \\nFique\\n \\nde\\n \\nolho\\n \\nem\\n \\nnossas\\n \\nredes\\n \\nsociais\\n \\ne\\n \\nnewsletter\\n \\npara\\n \\nmais\\n \\ninformações.\\n  P:  A  Serenatto  oferece  um  serviço  de  assinatura?   R:  Atualmente,  não  oferecemos  um  serviço  de  assinatura.  No  entanto,  você  pode  \\nrealizar\\n \\npedidos\\n \\nrecorrentes\\n \\nmanualmente\\n \\natravés\\n \\nde\\n \\nnosso\\n \\nsite.\\n \\nEstamos\\n \\nsempre\\n \\navaliando\\n \\nnovos\\n \\nserviços\\n \\nque\\n \\npossam\\n \\nmelhorar\\n \\na\\n \\nexperiência\\n \\nde\\n \\nnossos\\n \\nclientes,\\n \\nentão\\n \\nfique\\n \\natento\\n \\nàs\\n \\natualizações\\n \\nfuturas.\\n  P:  Onde  posso  tirar  mais  dúvidas?  R:  Para  mais  informações,  entre  em  contato  pelo  whatsapp  (11)  99999-9999  ou  envie  \\nemail\\n \\npara\\n \\ncontato@serenatto.com.br.\\n             ', path=None, url=None, mimetype=None), image_resource=None, audio_resource=None, video_resource=None, text_template='{metadata_str}\\n\\n{content}'),\n",
              " Document(id_='2c6ec4d9-0981-49b4-b560-6a183a445326', embedding=None, metadata={'page_label': '3', 'file_name': 'serenatto_cafes_especiais.pdf', 'file_path': '/content/documentos/serenatto_cafes_especiais.pdf', 'file_type': 'application/pdf', 'file_size': 133957, 'creation_date': '2025-03-12', 'last_modified_date': '2025-03-12'}, excluded_embed_metadata_keys=['file_name', 'file_type', 'file_size', 'creation_date', 'last_modified_date', 'last_accessed_date'], excluded_llm_metadata_keys=['file_name', 'file_type', 'file_size', 'creation_date', 'last_modified_date', 'last_accessed_date'], relationships={}, metadata_template='{key}: {value}', metadata_separator='\\n', text_resource=MediaResource(embeddings=None, data=None, text='Variedades  dos  grãos   P:  Quais  são  as  características  de  cada  variedade  de  café?  R:  As  variedades  têm  as  seguintes  características:  ●  Bourbon  vermelho:  Doçura  intensa,  corpo  encorpado,  notas  de  chocolate.  ●  Bourbon  amarelo:  Acidez  vibrante,  notas  cítricas  de  maracujá,  ameixa  e  nêspera .   ●  Blend  especial:  Mistura  do  bourbon  vermelho  e  bourbon  amarelo,  gerando  \\nequilíbrio\\n \\nentre\\n \\ndoçura\\n \\ne\\n \\nacidez,\\n \\ncom\\n \\nnotas\\n \\nde\\n \\ncaramelo\\n \\ne\\n \\nchocolate.\\n ●  Catuaí  amarelo:  Perfil  exótico,  que  carrega  uma  expressiva  acidez  e  notas  de  \\nacerola\\n \\ne\\n \\npitanga.\\n \\n ●  Geisha:  Aroma  floral,  notas  de  jasmim  e  mamão  papaya.   ●  Yirgacheffe:  Acidez  vibrante,  notas  de  mel  de  laranjeira,  chá  de  capim-limão  e  \\nmaçã\\n \\nfuji.\\n \\n  P:  Quero  saber  mais  detalhes  sobre  o  Bourbon  vermelho.  R:  Este  café  possui  doçura  máxima  (5/5),  que  causa  sensação  aveludada  no  céu  da  \\nboca.\\n \\nO\\n \\ncorpo\\n \\né\\n \\nencorpado\\n \\n(5/5)\\n \\ne\\n \\na\\n \\nacidez\\n \\né\\n \\nbaixa\\n \\n(1/5),\\n \\ncom\\n \\num\\n \\nleve\\n \\namargor\\n \\n(2/5).\\n \\nSeu\\n \\nperfil\\n \\nsensorial\\n \\né\\n \\nmarcado\\n \\npor\\n \\nnotas\\n \\nde\\n \\nchocolate.\\n \\nO\\n \\nprocesso\\n \\nde\\n \\nprodução\\n \\né\\n \\nnatural,\\n \\ncultivado\\n \\nem\\n \\naltitudes\\n \\nentre\\n \\n1.200m\\n \\ne\\n \\n1.450m,\\n \\ncom\\n \\ntorra\\n \\nmédia\\n \\nescura.\\n \\n  P:  Quero  mais  detalhes  sobre  o  Bourbon  amarelo.  R:  Este  café  possui  doçura  moderada  (3/5),  corpo  médio  (3/5),  alta  acidez  (5/5)  e  baixo  \\namargor\\n \\n(1/5).\\n \\nPossui\\n \\nsabor\\n \\nresidual\\n \\nlongo\\n \\ne\\n \\nintenso\\n \\nde\\n \\nfrutas\\n \\ncítricas,\\n \\nincluindo\\n \\nnotas\\n \\nde\\n \\nmaracujá,\\n \\nameixa\\n \\ne\\n \\nnêspera.\\n \\nO\\n \\nprocesso\\n \\nutilizado\\n \\né\\n \\no\\n \\ncereja\\n \\ndescascado,\\n \\ncultivado\\n \\nem\\n \\naltitudes\\n \\nentre\\n \\n1.200m\\n \\ne\\n \\n1.450m,\\n \\ncom\\n \\ntorra\\n \\nmédia\\n \\nclara.\\n \\n  P:  Quero  saber  mais  detalhes  sobre  o  Blend  especial.  R:  É  uma  mistura  do  Bourbon  amarelo  com  o  Bourbon  vermelho,  ideal  para  quem  \\nbusca\\n \\no\\n \\nequilíbrio\\n \\nperfeito.\\n \\nEsta\\n \\nmistura\\n \\napresenta\\n \\ndoçura\\n \\nalta\\n \\n(4/5),\\n \\ncorpo\\n \\nmédio-alto\\n \\n(4/5)\\n \\ne\\n \\nacidez\\n \\nmédia-alta\\n \\n(4/5),\\n \\ncom\\n \\namargor\\n \\nbaixo\\n \\n(1/5).\\n \\nSeu\\n \\nperfil\\n \\nsensorial\\n \\ncombina\\n \\ncaramelo\\n \\ne\\n \\nchocolate.\\n \\nO\\n \\nprocesso\\n \\ninclui\\n \\ncereja\\n \\ndescascado\\n \\ne\\n \\nnatural,\\n \\ncultivado\\n \\nem\\n \\naltitudes\\n \\nentre\\n \\n1.200m\\n \\ne\\n \\n1.450m,\\n \\ncom\\n \\ntorra\\n \\nmédia.\\n  P:  Quero  mais  detalhes  sobre  o  Catuaí  amarelo.  R:  Este  café  possui  doçura  máxima  (5/5)  e  corpo  médio-alto  (4/5)  e  amargor  baixo  \\n(1/5).\\n \\nEle\\n \\nainda\\n \\ncarrega\\n \\numa\\n \\nexpressiva\\n \\nacidez\\n \\ne\\n \\nnotas\\n \\nmaravilhosas\\n \\nde\\n \\npitanga,\\n \\nfugindo\\n \\nmuito\\n \\ndo\\n \\ntradicional.\\n \\nÉ\\n \\num\\n \\ncafé\\n \\npara\\n \\nquem\\n \\nbusca\\n \\numa\\n \\nexperiência\\n \\nsensorial\\n \\ndiferenciada.\\n \\nO\\n \\nprocesso\\n \\né\\n \\nfermentado,\\n \\ncultivado\\n \\nem\\n \\naltitude\\n \\nde\\n \\n1.200m,\\n \\ncom\\n \\ntorra\\n \\nmédia.\\n  ', path=None, url=None, mimetype=None), image_resource=None, audio_resource=None, video_resource=None, text_template='{metadata_str}\\n\\n{content}'),\n",
              " Document(id_='846f2cbc-d064-4512-a8af-dbfff3baa699', embedding=None, metadata={'page_label': '4', 'file_name': 'serenatto_cafes_especiais.pdf', 'file_path': '/content/documentos/serenatto_cafes_especiais.pdf', 'file_type': 'application/pdf', 'file_size': 133957, 'creation_date': '2025-03-12', 'last_modified_date': '2025-03-12'}, excluded_embed_metadata_keys=['file_name', 'file_type', 'file_size', 'creation_date', 'last_modified_date', 'last_accessed_date'], excluded_llm_metadata_keys=['file_name', 'file_type', 'file_size', 'creation_date', 'last_modified_date', 'last_accessed_date'], relationships={}, metadata_template='{key}: {value}', metadata_separator='\\n', text_resource=MediaResource(embeddings=None, data=None, text='P:  Quero  saber  mais  detalhes  sobre  o  Geisha.  R:  Este  café  premium  possui  doçura  máxima  (5/5),  corpo  encorpado  (5/5)  e  acidez  \\nmoderada-alta\\n \\n(4/5),\\n \\ncom\\n \\namargor\\n \\nbaixo\\n \\n(1/5).\\n \\nSeu\\n \\nperfil\\n \\nsensorial\\n \\ntem\\n \\naroma\\n \\nfloral\\n \\ne\\n \\né\\n \\nmarcado\\n \\npor\\n \\nnotas\\n \\nde\\n \\njasmim\\n \\ne\\n \\nmamão\\n \\npapaya.\\n \\nO\\n \\nprocesso\\n \\né\\n \\nfermentado,\\n \\ncultivado\\n \\nem\\n \\naltitude\\n \\nde\\n \\n1.150m,\\n \\ncom\\n \\ntorra\\n \\nclara.\\n  P:  Quero  saber  mais  detalhes  sobre  o  Yirgacheffe.   R:  Este  café  premium  possui  doçura  máxima  (5/5)  e  corpo  médio-alto  (4/5),  \\ndestacando-se\\n \\npela\\n \\nalta\\n \\nacidez\\n \\n(5/5)\\n \\ne\\n \\namargor\\n \\nbaixo\\n \\n(1/5).\\n \\nSeu\\n \\nperfil\\n \\nsensorial\\n \\ninclui\\n \\nnotas\\n \\nde\\n \\nmel\\n \\nde\\n \\nlaranjeira,\\n \\nchá\\n \\nde\\n \\ncapim-limão\\n \\ne\\n \\nmaçã\\n \\nfuji.\\n \\nA\\n \\nacidez\\n \\né\\n \\nvibrante,\\n \\ncom\\n \\ncorpo\\n \\nsedoso\\n \\ne\\n \\nfinalização\\n \\ndoce\\n \\nfrutada.\\n \\nO\\n \\nprocesso\\n \\né\\n \\nfermentado,\\n \\ncultivado\\n \\nem\\n \\naltitude\\n \\nde\\n \\n1.300m,\\n \\ncom\\n \\ntorra\\n \\nclara.\\n \\n  P:  Qual  café  da  Serenatto  é  mais  indicado  para  quem  prefere  sabores  suaves?  R:  Para  quem  prefere  sabores  suaves,  recomendamos  o  Bourbon  Vermelho,  que  \\npossui\\n \\ndoçura\\n \\nintensa,\\n \\ncorpo\\n \\nencorpado\\n \\ne\\n \\nnotas\\n \\nde\\n \\nchocolate,\\n \\ncom\\n \\nacidez\\n \\nbaixa\\n \\ne\\n \\namargor\\n \\nleve.\\n  P:  Qual  café  é  mais  indicado  para  quem  gosta  de  acidez  marcante?  R:  Se  você  aprecia  acidez  vibrante,  experimente  o  Bourbon  amarelo,  Catuaí  amarelo  \\nou\\n \\no\\n \\nYirgacheffe.\\n \\nAmbos\\n \\npossuem\\n \\nacidez\\n \\nalta\\n \\ne\\n \\nnotas\\n \\ncítricas\\n \\ne\\n \\nfrutadas\\n \\nque\\n \\ndestacam\\n \\nessa\\n \\ncaracterística.\\n  P:  Vocês  têm  cafés  com  notas  florais?  R:  Sim,  o  Geisha  é  a  melhor  opção  para  quem  busca  notas  florais.  Ele  possui  aroma  de  \\njasmim\\n \\ne\\n \\nnotas\\n \\nde\\n \\nmamão\\n \\npapaya,\\n \\ncom\\n \\numa\\n \\nacidez\\n \\nagradável\\n \\ne\\n \\ndoçura\\n \\nmáxima.\\n  P:  Como  posso  identificar  notas  diferentes  no  café?   R:  Identificar  notas  em  café  é  uma  habilidade  que  pode  ser  aprimorada  com  a  prática.  \\nComece\\n \\nprovando\\n \\ncafés\\n \\nde\\n \\ndiferentes\\n \\nregiões\\n \\ne\\n \\nprestando\\n \\natenção\\n \\nàs\\n \\ndescrições\\n \\ndas\\n \\nnotas\\n \\nna\\n \\nembalagem.\\n \\nTente\\n \\nidentificar\\n \\nessas\\n \\nnotas\\n \\nenquanto\\n \\nsaboreia\\n \\nlentamente,\\n \\nprestando\\n \\natenção\\n \\nao\\n \\naroma,\\n \\nsabor\\n \\ne\\n \\nsensação\\n \\nna\\n \\nboca.\\n         ', path=None, url=None, mimetype=None), image_resource=None, audio_resource=None, video_resource=None, text_template='{metadata_str}\\n\\n{content}'),\n",
              " Document(id_='ea859b13-12f3-40e4-a6fe-52261a840b77', embedding=None, metadata={'page_label': '5', 'file_name': 'serenatto_cafes_especiais.pdf', 'file_path': '/content/documentos/serenatto_cafes_especiais.pdf', 'file_type': 'application/pdf', 'file_size': 133957, 'creation_date': '2025-03-12', 'last_modified_date': '2025-03-12'}, excluded_embed_metadata_keys=['file_name', 'file_type', 'file_size', 'creation_date', 'last_modified_date', 'last_accessed_date'], excluded_llm_metadata_keys=['file_name', 'file_type', 'file_size', 'creation_date', 'last_modified_date', 'last_accessed_date'], relationships={}, metadata_template='{key}: {value}', metadata_separator='\\n', text_resource=MediaResource(embeddings=None, data=None, text='Nota  SCA   P:  O  que  é  a  nota  SCA?  R:  A  nota  SCA  (Specialty  Coffee  Association)  é  uma  avaliação  que  classifica  a  \\nqualidade\\n \\ndo\\n \\ncafé\\n \\ncom\\n \\nbase\\n \\nem\\n \\ncritérios\\n \\npadronizados.\\n \\nA\\n \\npontuação\\n \\nvaria\\n \\nde\\n \\n0\\n \\na\\n \\n100,\\n \\ne\\n \\ncafés\\n \\ncom\\n \\nnota\\n \\nacima\\n \\nde\\n \\n80\\n \\nsão\\n \\nconsiderados\\n \\nespeciais.\\n \\nA\\n \\navaliação\\n \\nconsidera\\n \\naspectos\\n \\ncomo\\n \\naroma,\\n \\nsabor,\\n \\nacidez,\\n \\ncorpo,\\n \\nequilíbrio,\\n \\ndoçura\\n \\ne\\n \\nfinalização.\\n \\nCafés\\n \\ncom\\n \\nnotas\\n \\nacima\\n \\nde\\n \\n85\\n \\nsão\\n \\nde\\n \\naltíssima\\n \\nqualidade,\\n \\ne\\n \\nacima\\n \\nde\\n \\n90\\n \\nsão\\n \\nraros\\n \\ne\\n \\nexcepcionais.\\n  P:  Quais  são  as  notas  SCA  dos  cafés  da  Serenatto?  R:  Os  cafés  da  Serenatto  têm  as  seguintes  notas  SCA:  ●  Bourbon  vermelho:  85  ●  Bourbon  amarelo:  86  ●  Blend  especial:  85  ●  Catuaí  amarelo:  87  ●  Geisha:  90  ●  Yirgacheffe:  90    P:  Quais  são  os  cafés  mais  bem  avaliados  da  Serenatto?  R:  Geisha  e  Yirgacheffe.  Ambos  com  Nota  SCA  90.                        ', path=None, url=None, mimetype=None), image_resource=None, audio_resource=None, video_resource=None, text_template='{metadata_str}\\n\\n{content}'),\n",
              " Document(id_='153a8b59-1e33-4802-8c87-856a2e2b769d', embedding=None, metadata={'page_label': '6', 'file_name': 'serenatto_cafes_especiais.pdf', 'file_path': '/content/documentos/serenatto_cafes_especiais.pdf', 'file_type': 'application/pdf', 'file_size': 133957, 'creation_date': '2025-03-12', 'last_modified_date': '2025-03-12'}, excluded_embed_metadata_keys=['file_name', 'file_type', 'file_size', 'creation_date', 'last_modified_date', 'last_accessed_date'], excluded_llm_metadata_keys=['file_name', 'file_type', 'file_size', 'creation_date', 'last_modified_date', 'last_accessed_date'], relationships={}, metadata_template='{key}: {value}', metadata_separator='\\n', text_resource=MediaResource(embeddings=None, data=None, text='Produção  dos  cafés   P:  Quais  são  os  processos  de  produção  dos  cafés?  R:  Nossos  cafés  podem  ter  os  seguintes  processos  de  produção:  -  Natural:  Os  frutos  do  café  (cerejas)  são  secos  inteiros,  resultando  em  cafés  com  \\nalta\\n \\ndoçura,\\n \\ncorpo\\n \\nencorpado\\n \\ne\\n \\nnotas\\n \\nfrutadas\\n \\nou\\n \\nde\\n \\nchocolate.\\n -  Cereja  descascado:  A  casca  dos  frutos  do  café  é  removida,  mas  parte  da  polpa  \\npermanece,\\n \\ngerando\\n \\ncafés\\n \\ncom\\n \\ndoçura\\n \\nequilibrada,\\n \\ncorpo\\n \\nmédio\\n \\na\\n \\nencorpado\\n \\ne\\n \\nacidez\\n \\nmais\\n \\npronunciada,\\n \\ncom\\n \\nnotas\\n \\ncítricas\\n \\ne\\n \\nfrutadas\\n -  Fermentado:  O  processo  fermentado  envolve  a  secagem  das  cerejas  inteiras  \\ncom\\n \\nfermentação\\n \\ncontrolada,\\n \\ndestacando\\n \\nsabores\\n \\nexóticos.\\n  P:  Como  a  torra  influencia  no  sabor  do  café?  R:  As  torras  influenciam  da  seguinte  forma:   -  Torra  clara:  Preserva  notas  frutadas,  florais  e  cítricas,  com  acidez  vibrante  e  \\ncorpo\\n \\nleve.\\n -  Torra  média:  Equilíbrio  entre  doçura  e  acidez,  com  notas  de  chocolate,  caramelo  \\ne\\n \\nnozes,\\n \\nalém\\n \\nde\\n \\num\\n \\ncorpo\\n \\nmais\\n \\nencorpado.\\n -  Torra  escura:  Sabores  intensos  e  amargos,  acidez  baixa  e  corpo  pesado,  comum  \\nem\\n \\ncafés\\n \\npara\\n \\nespresso\\n \\nou\\n \\npara\\n \\nquem\\n \\nprefere\\n \\nsabores\\n \\nmais\\n \\nrobustos.\\n  P:  Como  a  altitude  afeta  os  grãos  de  café?   R:  A  altitude  em  que  os  grãos  de  café  são  cultivados  desempenha  um  papel  \\nfundamental\\n \\nno\\n \\ndesenvolvimento\\n \\ndas\\n \\ncaracterísticas\\n \\ndo\\n \\ncafé.\\n \\nDe\\n \\nmaneira\\n \\ngeral,\\n \\nquanto\\n \\nmaior\\n \\na\\n \\naltitude,\\n \\nmais\\n \\nlentamente\\n \\no\\n \\ncafé\\n \\namadurece.\\n \\nIsso\\n \\nproporciona\\n \\nmais\\n \\ntempo\\n \\npara\\n \\nque\\n \\nos\\n \\ngrãos\\n \\ndesenvolvam\\n \\nsabores\\n \\ncomplexos\\n \\ne\\n \\nnuances\\n \\naromáticas.\\n \\n               ', path=None, url=None, mimetype=None), image_resource=None, audio_resource=None, video_resource=None, text_template='{metadata_str}\\n\\n{content}'),\n",
              " Document(id_='3a8cbc6a-96cf-4d5c-870f-ba91a82d6131', embedding=None, metadata={'page_label': '7', 'file_name': 'serenatto_cafes_especiais.pdf', 'file_path': '/content/documentos/serenatto_cafes_especiais.pdf', 'file_type': 'application/pdf', 'file_size': 133957, 'creation_date': '2025-03-12', 'last_modified_date': '2025-03-12'}, excluded_embed_metadata_keys=['file_name', 'file_type', 'file_size', 'creation_date', 'last_modified_date', 'last_accessed_date'], excluded_llm_metadata_keys=['file_name', 'file_type', 'file_size', 'creation_date', 'last_modified_date', 'last_accessed_date'], relationships={}, metadata_template='{key}: {value}', metadata_separator='\\n', text_resource=MediaResource(embeddings=None, data=None, text='Modo  de  preparo  recomendado:  Coado   P:  Quanto  de  café  devo  usar  para  preparar  os  cafés  da  Serenatto?  R:  Para  obter  os  melhores  resultados  na  preparação  dos  nossos  cafés,  sugerimos  \\nseguir\\n \\numa\\n \\nreceita\\n \\nbase\\n \\nonde\\n \\n15\\n \\ngramas\\n \\nde\\n \\ncafé\\n \\nsão\\n \\nusados\\n \\npara\\n \\ncada\\n \\n240\\n \\nmL\\n \\nde\\n \\nágua.\\n \\nEsta\\n \\nproporção\\n \\n(1:16)\\n \\né\\n \\nideal\\n \\npara\\n \\numa\\n \\nextração\\n \\ncompleta\\n \\ndos\\n \\nsabores\\n \\nricos\\n \\ne\\n \\nnuances\\n \\ndo\\n \\ncafé.\\n \\nClaro,\\n \\nvocê\\n \\npode\\n \\najustar\\n \\nas\\n \\nmedidas\\n \\npara\\n \\nmais\\n \\nou\\n \\npara\\n \\nmenos\\n \\nconforme\\n \\nsua\\n \\npreferência.\\n \\nCaso\\n \\nseja\\n \\nsua\\n \\nprimeira\\n \\nexperiência\\n \\ncom\\n \\nnossos\\n \\ncafés,\\n \\nessa\\n \\nreceita\\n \\nserve\\n \\ncomo\\n \\num\\n \\nexcelente\\n \\nponto\\n \\nde\\n \\npartida.\\n  P:  Qual  método  vocês  recomendam  para  preparar  os  cafés  da  Serenatto?  R:  Nós  recomendamos  o  V60,  um  método  de  preparo  de  café  que  se  destaca  pelo  seu  \\nformato\\n \\ncônico\\n \\ncom\\n \\nlinhas\\n \\nespirais\\n \\ninternas\\n \\ne\\n \\numa\\n \\ngrande\\n \\nabertura\\n \\nna\\n \\nbase.\\n \\nEssas\\n \\ncaracterísticas\\n \\npermitem\\n \\num\\n \\ncontrole\\n \\npreciso\\n \\nsobre\\n \\na\\n \\ninfusão,\\n \\nresultando\\n \\nem\\n \\num\\n \\ncafé\\n \\ncom\\n \\nextração\\n \\nuniforme\\n \\ne\\n \\nrica\\n \\nem\\n \\nsabores.\\n  P:  Qual  é  o  passo  a  passo  para  preparar  o  café  coado?  R:  Você  pode  seguir  as  seguintes  etapas  do  preparo:  1.  Preparação  da  água:  Aqueça  a  água  até  uma  temperatura  entre  94ºC  e  96ºC.  2.  Pesagem  do  café:  Use  a  proporção  de  1  grama  de  café  para  cada  16  mL  de  água.  3.  Moagem  do  café:  Moa  o  café  até  atingir  uma  granulação  média-fina,  semelhante  a  \\naçúcar\\n \\ncristal.\\n \\n 4.  Preparação  do  filtro:  Coloque  o  filtro  de  papel  no  suporte  V60.  Antes  de  adicionar  o  \\ncafé,\\n \\nescalde\\n \\no\\n \\nfiltro\\n \\ncom\\n \\nágua\\n \\nquente\\n \\npara\\n \\nremover\\n \\nqualquer\\n \\nsabor\\n \\nde\\n \\npapel\\n \\ne\\n \\npré-aquecer\\n \\no\\n \\nsuporte.\\n 5.  Adição  do  café:  Despeje  o  pó  no  filtro.  6.  Infusão:  Adicione  a  água  quente  lentamente  sobre  o  café,  preferencialmente  em  \\nciclos,\\n \\ncomeçando\\n \\ndo\\n \\ncentro\\n \\ne\\n \\nmovendo\\n \\npara\\n \\nfora\\n \\nem\\n \\nmovimento\\n \\nespiral.\\n \\nIsso\\n \\najuda\\n \\na\\n \\ngarantir\\n \\numa\\n \\nextração\\n \\nuniforme\\n \\nde\\n \\ntodos\\n \\nos\\n \\nsabores\\n \\ne\\n \\naromas.\\n 7.  Finalização:  Após  a  passagem  da  água,  remova  o  filtro  e  descarte-o.  Agora  é  só  \\nservir\\n \\ne\\n \\ndesfrutar\\n \\ndo\\n \\nseu\\n \\ndelicioso\\n \\ncafé.\\n  P:  Que  tipo  de  água  devo  usar  para  fazer  café?   R:  Recomendamos  usar  água  filtrada  com  baixo  teor  de  minerais.  A  qualidade  da  água  \\ntem\\n \\num\\n \\ngrande\\n \\nimpacto\\n \\nno\\n \\nsabor\\n \\nfinal\\n \\ndo\\n \\ncafé,\\n \\npor\\n \\nisso\\n \\nágua\\n \\npura,\\n \\nsem\\n \\ncloro\\n \\nou\\n \\nimpurezas,\\n \\né\\n \\nessencial.\\n     ', path=None, url=None, mimetype=None), image_resource=None, audio_resource=None, video_resource=None, text_template='{metadata_str}\\n\\n{content}'),\n",
              " Document(id_='b4788158-79a5-45e7-9b82-769bfde39306', embedding=None, metadata={'page_label': '8', 'file_name': 'serenatto_cafes_especiais.pdf', 'file_path': '/content/documentos/serenatto_cafes_especiais.pdf', 'file_type': 'application/pdf', 'file_size': 133957, 'creation_date': '2025-03-12', 'last_modified_date': '2025-03-12'}, excluded_embed_metadata_keys=['file_name', 'file_type', 'file_size', 'creation_date', 'last_modified_date', 'last_accessed_date'], excluded_llm_metadata_keys=['file_name', 'file_type', 'file_size', 'creation_date', 'last_modified_date', 'last_accessed_date'], relationships={}, metadata_template='{key}: {value}', metadata_separator='\\n', text_resource=MediaResource(embeddings=None, data=None, text='Café  gelado   P:  Como  posso  preparar  café  gelado?   R:  Para  preparar  um  delicioso  café  gelado,  você  pode  usar  o  método  do  coado,  \\ncontendo\\n \\n40%\\n \\ndo\\n \\nvolume\\n \\nem\\n \\ngelo\\n \\ne\\n \\n60%\\n \\ndo\\n \\nvolume\\n \\nem\\n \\nágua\\n \\nquente,\\n \\nseguindo\\n \\nas\\n \\nseguintes\\n \\netapas:\\n 1.  Pesagem  do  café:  Use  a  proporção  de  1  grama  de  café  para  cada  16  mL  de  água  \\ntotal\\n 2.  Moagem  do  Café:  Moa  o  café  levemente  mais  fino  do  que  o  usado  para  coado  \\nnormal.\\n \\nIsso\\n \\najudará\\n \\nna\\n \\nextração\\n \\ndos\\n \\nsabores,\\n \\ndado\\n \\no\\n \\ntempo\\n \\nde\\n \\ncontato\\n \\nmais\\n \\ncurto\\n \\ncom\\n \\na\\n \\nágua.\\n 3.  Preparação  do  Filtro:  Coloque  o  filtro  de  papel  no  suporte  e  escalde-o  com  água  \\nquente.\\n \\nIsso\\n \\nremove\\n \\nqualquer\\n \\nsabor\\n \\nresidual\\n \\ndo\\n \\npapel\\n \\ne\\n \\najuda\\n \\na\\n \\npré-aquecer\\n \\no\\n \\nsuporte.\\n 4.  Preparação  do  Gelo:  Coloque  gelo  para  ocupar  cerca  de  40%  do  volume  total  da  sua  \\njarra\\n \\nou\\n \\nrecipiente.\\n 5.  Adição  do  café:  Despeje  o  pó  no  filtro.  6.  Pré-infusão:  Adicione  uma  pequena  quantidade  de  água  quente  (entre  94ºC  e  96ºC)  \\nsobre\\n \\no\\n \\ncafé\\n \\nmoído\\n \\nno\\n \\nfiltro,\\n \\nsuficiente\\n \\npara\\n \\numedecer\\n \\ntodo\\n \\no\\n \\ncafé.\\n \\nDeixe\\n \\nem\\n \\npré-infusão\\n \\npor\\n \\n1\\n \\nminuto\\n \\npara\\n \\nliberar\\n \\nos\\n \\nóleos\\n \\nessenciais\\n \\ne\\n \\naromas\\n \\ndo\\n \\ncafé.\\n \\n 7.  Despejo:  Após  a  pré-infusão,  continue  adicionando  a  água  quente  em  ciclos,  \\ndespejando\\n \\nlentamente\\n \\nem\\n \\nmovimentos\\n \\ncirculares\\n \\npara\\n \\ngarantir\\n \\numa\\n \\nextração\\n \\nuniforme.\\n 8.  Finalização:  Após  completar  os  despejos,  deixe  o  café  terminar  de  filtrar  sobre  o  \\ngelo.\\n \\nO\\n \\ngelo\\n \\nderreterá\\n \\nparcialmente,\\n \\nresfriando\\n \\no\\n \\ncafé\\n \\ninstantaneamente\\n \\ne\\n \\ndiluindo-o\\n \\nna\\n \\nproporção\\n \\ncorreta.\\n Este  método  garante  um  café  coado  gelado  refrescante  e  saboroso,  perfeito  para  os  \\ndias\\n \\nmais\\n \\nquentes!\\n              ', path=None, url=None, mimetype=None), image_resource=None, audio_resource=None, video_resource=None, text_template='{metadata_str}\\n\\n{content}'),\n",
              " Document(id_='65b8aaf8-1d46-48be-b90d-05277bd9192f', embedding=None, metadata={'page_label': '9', 'file_name': 'serenatto_cafes_especiais.pdf', 'file_path': '/content/documentos/serenatto_cafes_especiais.pdf', 'file_type': 'application/pdf', 'file_size': 133957, 'creation_date': '2025-03-12', 'last_modified_date': '2025-03-12'}, excluded_embed_metadata_keys=['file_name', 'file_type', 'file_size', 'creation_date', 'last_modified_date', 'last_accessed_date'], excluded_llm_metadata_keys=['file_name', 'file_type', 'file_size', 'creation_date', 'last_modified_date', 'last_accessed_date'], relationships={}, metadata_template='{key}: {value}', metadata_separator='\\n', text_resource=MediaResource(embeddings=None, data=None, text='Outros  métodos  de  preparo  além  do  recomendado:   P:  Posso  usar  os  cafés  da  Serenatto  em  máquinas  de  espresso?  R:  Sim,  nossos  cafés  podem  ser  usados  em  máquinas  de  espresso.  Para  esse  método,  \\nrecomendamos\\n \\numa\\n \\nmoagem\\n \\nfina\\n \\ne\\n \\ncafés\\n \\ncom\\n \\ntorra\\n \\nmédia\\n \\nou\\n \\nescura,\\n \\ncomo\\n \\no\\n \\nBourbon\\n \\nvermelho\\n \\nou\\n \\no\\n \\nBlend\\n \\nespecial,\\n \\nque\\n \\npossuem\\n \\ncorpo\\n \\nencorpado\\n \\ne\\n \\nsabores\\n \\nintensos.\\n  P:  Vocês  têm  dicas  para  French  Press?  R:  Para  o  French  Press,  recomendamos  uma  moagem  grossa  e  uma  proporção  de  \\n1:15\\n \\n(1\\n \\ngrama\\n \\nde\\n \\ncafé\\n \\npara\\n \\n15\\n \\nmL\\n \\nde\\n \\nágua).\\n \\nUse\\n \\nágua\\n \\na\\n \\n94ºC\\n \\ne\\n \\ndeixe\\n \\no\\n \\ncafé\\n \\nem\\n \\ninfusão\\n \\npor\\n \\n4\\n \\nminutos.\\n \\nDepois,\\n \\npressione\\n \\no\\n \\nêmbolo\\n \\nlentamente\\n \\ne\\n \\nsirva\\n \\nimediatamente.\\n  P:  Qual  café  é  melhor  para  preparo  cold  brew?  R:  Para  cold  brew,  recomendamos  o  Catuaí  amarelo  ou  o  yirgacheffe,  que  possuem  \\nnotas\\n \\nfrutadas\\n \\ne\\n \\nacidez\\n \\nvibrante,\\n \\ncaracterísticas\\n \\nque\\n \\nse\\n \\ndestacam\\n \\nnesse\\n \\nmétodo\\n \\nde\\n \\npreparo.\\n \\nUse\\n \\numa\\n \\nmoagem\\n \\ngrossa\\n \\ne\\n \\ndeixe\\n \\nem\\n \\ninfusão\\n \\npor\\n \\n12\\n \\na\\n \\n24\\n \\nhoras\\n \\nna\\n \\ngeladeira.\\n  P:  Qual  é  a  moagem  ideal  para  diferentes  tipos  de  preparo?   R:  A  moagem  varia  de  acordo  com  o  método  de  preparo:  ●  Espresso:  Moagem  fina  ●  V60:  Moagem  média-fina  ●  French  Press:  Moagem  grossa  ●  Cold  Brew:  Moagem  grossa   Adaptar  a  moagem  ao  método  de  preparo  ajuda  a  maximizar  o  sabor  e  a  qualidade  da  \\nbebida.\\n  P:  Por  que  moer  o  café  na  hora  é  importante?  R:  Moer  o  café  na  hora  é  essencial  para  garantir  uma  bebida  de  alta  qualidade,  pois  \\npreserva\\n \\no\\n \\nfrescor,\\n \\no\\n \\naroma\\n \\ne\\n \\nos\\n \\nsabores\\n \\nnaturais\\n \\ndos\\n \\ngrãos.\\n \\nQuando\\n \\no\\n \\ncafé\\n \\né\\n \\nmoído,\\n \\nseus\\n \\nóleos\\n \\ne\\n \\ncompostos\\n \\naromáticos\\n \\ncomeçam\\n \\na\\n \\nse\\n \\ndegradar\\n \\nrapidamente\\n \\nem\\n \\ncontato\\n \\ncom\\n \\no\\n \\nar.\\n \\nMoer\\n \\nna\\n \\nhora\\n \\nevita\\n \\nessa\\n \\nperda,\\n \\nresultando\\n \\nem\\n \\num\\n \\ncafé\\n \\nmais\\n \\nrico\\n \\ne\\n \\nsaboroso.\\n \\nAlém\\n \\ndisso,\\n \\npermite\\n \\najustar\\n \\na\\n \\nmoagem\\n \\npara\\n \\no\\n \\nmétodo\\n \\nde\\n \\npreparo\\n \\nescolhido,\\n \\ngarantindo\\n \\numa\\n \\nextração\\n \\nequilibrada\\n \\ne\\n \\nevitando\\n \\nsabores\\n \\naguados\\n \\nou\\n \\namargos.\\n \\n \\n ', path=None, url=None, mimetype=None), image_resource=None, audio_resource=None, video_resource=None, text_template='{metadata_str}\\n\\n{content}'),\n",
              " Document(id_='73f99a16-33fd-4e81-8dba-970b8afffca9', embedding=None, metadata={'page_label': '10', 'file_name': 'serenatto_cafes_especiais.pdf', 'file_path': '/content/documentos/serenatto_cafes_especiais.pdf', 'file_type': 'application/pdf', 'file_size': 133957, 'creation_date': '2025-03-12', 'last_modified_date': '2025-03-12'}, excluded_embed_metadata_keys=['file_name', 'file_type', 'file_size', 'creation_date', 'last_modified_date', 'last_accessed_date'], excluded_llm_metadata_keys=['file_name', 'file_type', 'file_size', 'creation_date', 'last_modified_date', 'last_accessed_date'], relationships={}, metadata_template='{key}: {value}', metadata_separator='\\n', text_resource=MediaResource(embeddings=None, data=None, text='Armazenamento  e  validade   P:  Como  devo  armazenar  os  grãos  de  café  para  manter  a  qualidade?  R:  Recomendamos  armazenar  os  grãos  em  um  recipiente  hermético,  longe  da  umidade  \\ne\\n \\ncalor.\\n \\nEvite\\n \\nguardar\\n \\no\\n \\ncafé\\n \\nna\\n \\ngeladeira,\\n \\npois\\n \\na\\n \\numidade\\n \\ne\\n \\nas\\n \\nvariações\\n \\nde\\n \\ntemperatura\\n \\npodem\\n \\nprejudicar\\n \\no\\n \\nsabor\\n \\ne\\n \\no\\n \\naroma.\\n  P:  Qual  é  a  validade  dos  cafés  da  Serenatto?  R:  Nossos  cafés  são  enviados  recém-torrados  para  garantir  frescor.  Para  uma  \\nexperiência\\n \\nmelhor\\n \\ncom\\n \\nas\\n \\ncaracterísticas\\n \\ndas\\n \\nnotas\\n \\nsensoriais\\n \\ne\\n \\na\\n \\nintensidade\\n \\ndo\\n \\naroma,\\n \\no\\n \\nconsumo\\n \\ndeve\\n \\nser\\n \\nentre\\n \\ntrês\\n \\ne\\n \\nquatro\\n \\nmeses.\\n \\nNo\\n \\nentanto,\\n \\ndepois\\n \\nde\\n \\naberto,\\n \\no\\n \\nconsumo\\n \\ndeve\\n \\nser,\\n \\nde\\n \\npreferência,\\n \\nentre\\n \\nduas\\n \\n(quando\\n \\nestiver\\n \\nmoído)\\n \\na\\n \\nquatro\\n \\nsemanas\\n \\n(em\\n \\ngrãos)\\n \\nda\\n \\ndata\\n \\nda\\n \\ntorra.\\n  ', path=None, url=None, mimetype=None), image_resource=None, audio_resource=None, video_resource=None, text_template='{metadata_str}\\n\\n{content}')]"
            ]
          },
          "execution_count": 7,
          "metadata": {},
          "output_type": "execute_result"
        }
      ],
      "source": [
        "docs #exibe o conteudo do doc"
      ]
    },
    {
      "cell_type": "code",
      "execution_count": 8,
      "metadata": {
        "colab": {
          "base_uri": "https://localhost:8080/"
        },
        "id": "Ow3ch4Obfcja",
        "outputId": "761c09e9-4823-4d35-aebf-cd8a72fc3254"
      },
      "outputs": [
        {
          "data": {
            "text/plain": [
              "10"
            ]
          },
          "execution_count": 8,
          "metadata": {},
          "output_type": "execute_result"
        }
      ],
      "source": [
        "len(docs)"
      ]
    },
    {
      "cell_type": "code",
      "execution_count": 9,
      "metadata": {
        "colab": {
          "base_uri": "https://localhost:8080/"
        },
        "id": "g186-LbHffV7",
        "outputId": "78db5ecb-208e-4ed9-8233-4e79cbcfb419"
      },
      "outputs": [
        {
          "name": "stdout",
          "output_type": "stream",
          "text": [
            "page_label: 1\n",
            "file_name: serenatto_cafes_especiais.pdf\n",
            "file_path: /content/documentos/serenatto_cafes_especiais.pdf\n",
            "file_type: application/pdf\n",
            "file_size: 133957\n",
            "creation_date: 2025-03-12\n",
            "last_modified_date: 2025-03-12\n"
          ]
        }
      ],
      "source": [
        "print(docs[0].get_metadata_str())"
      ]
    },
    {
      "cell_type": "code",
      "execution_count": 10,
      "metadata": {
        "colab": {
          "base_uri": "https://localhost:8080/"
        },
        "id": "jE4cizUugFtv",
        "outputId": "ca405539-c22d-4328-efa0-0b38673b0e66"
      },
      "outputs": [
        {
          "data": {
            "text/plain": [
              "{'id_': '05c544fa-5573-49e4-aafd-4042173388a8',\n",
              " 'embedding': None,\n",
              " 'metadata': {'page_label': '1',\n",
              "  'file_name': 'serenatto_cafes_especiais.pdf',\n",
              "  'file_path': '/content/documentos/serenatto_cafes_especiais.pdf',\n",
              "  'file_type': 'application/pdf',\n",
              "  'file_size': 133957,\n",
              "  'creation_date': '2025-03-12',\n",
              "  'last_modified_date': '2025-03-12'},\n",
              " 'excluded_embed_metadata_keys': ['file_name',\n",
              "  'file_type',\n",
              "  'file_size',\n",
              "  'creation_date',\n",
              "  'last_modified_date',\n",
              "  'last_accessed_date'],\n",
              " 'excluded_llm_metadata_keys': ['file_name',\n",
              "  'file_type',\n",
              "  'file_size',\n",
              "  'creation_date',\n",
              "  'last_modified_date',\n",
              "  'last_accessed_date'],\n",
              " 'relationships': {},\n",
              " 'metadata_template': '{key}: {value}',\n",
              " 'metadata_separator': '\\n',\n",
              " 'text_resource': MediaResource(embeddings=None, data=None, text='Serenatto  –  Loja  online  de  cafés  especiais   Informações  gerais   P:  Quais  produtos  são  vendidos  no  site  da  Serenatto?  R:  A  Serenatto  é  uma  loja  online  especializada  na  venda  de  grãos  de  cafés  especiais,  \\noferecendo\\n \\ngrãos\\n \\ntorrados,\\n \\nprovenientes\\n \\nde\\n \\nfazendas\\n \\nselecionadas\\n \\nde\\n \\nMinas\\n \\nGerais.\\n \\nTodos\\n \\nos\\n \\nnossos\\n \\ncafés\\n \\npossuem\\n \\nnota\\n \\nSCA\\n \\nacima\\n \\nde\\n \\n80,\\n \\ngarantindo\\n \\nalta\\n \\nqualidade\\n \\ne\\n \\nperfis\\n \\nsensoriais\\n \\nexcepcionais.\\n  P:  De  onde  vêm  os  grãos  de  café  da  Serenatto?   R:  Nossos  grãos  são  cuidadosamente  selecionados  de  fazendas  localizadas  em  Minas  \\nGerais,\\n \\nconhecidas\\n \\npela\\n \\nalta\\n \\nqualidade\\n \\nde\\n \\nseus\\n \\ncafés\\n \\nespeciais.\\n \\nCada\\n \\nfazenda\\n \\né\\n \\nescolhida\\n \\npor\\n \\nsuas\\n \\npráticas\\n \\nsustentáveis\\n \\ne\\n \\npelo\\n \\ncuidado\\n \\nexcepcional\\n \\ncom\\n \\na\\n \\nprodução.\\n  P:  Qual  é  a  quantidade  vendida?  R:  Os  grãos  já  torrados  são  vendidos  em  pacotes  de  250g   P:  Quais  são  as  variedades  de  café  disponíveis?  R:  Trabalhamos  com  as  seguintes  variedades  de  café  em  grãos:  ●  Bourbon  vermelho  ●  Bourbon  amarelo  ●  Blend  especial  (Mistura  de  Bourbon  amarelo  e  vermelho)  ●  Catuaí  amarelo  ●  Geisha  ●  Yirgacheffe   P:  Quais  são  os  preços  de  cada  variedade  de  café?  R:  Os  preços  sãos  os  seguintes:  ●  Bourbon  vermelho:  R$  41,00  ●  Bourbon  amarelo:  R$  43,00  ●  Blend  especial:  R$  37,50  ●  Catuaí  amarelo:  R$  55,00  ●  Geisha:  R$  105,00  ●  Yirgacheffe:  R$  110,00      ', path=None, url=None, mimetype=None),\n",
              " 'image_resource': None,\n",
              " 'audio_resource': None,\n",
              " 'video_resource': None,\n",
              " 'text_template': '{metadata_str}\\n\\n{content}'}"
            ]
          },
          "execution_count": 10,
          "metadata": {},
          "output_type": "execute_result"
        }
      ],
      "source": [
        "docs[0].__dict__"
      ]
    },
    {
      "cell_type": "code",
      "execution_count": 11,
      "metadata": {
        "id": "i5PfKCERhJYM"
      },
      "outputs": [],
      "source": [
        "#importando a biblioteca para fazer o parse da informaçao\n",
        "from llama_index.core.node_parser import SentenceSplitter"
      ]
    },
    {
      "cell_type": "code",
      "execution_count": 12,
      "metadata": {
        "id": "wkU7ASTghWYj"
      },
      "outputs": [],
      "source": [
        "node_parser = SentenceSplitter(chunk_size=1200) # chunk para dividir o doc"
      ]
    },
    {
      "cell_type": "code",
      "execution_count": 13,
      "metadata": {
        "colab": {
          "base_uri": "https://localhost:8080/",
          "height": 49,
          "referenced_widgets": [
            "70216f14556a48388843a51db79d7c78",
            "045e012bb79b4e168c8bf335f3f3ab67",
            "89a07082e08540bbb0ab2efce0dd13bf",
            "c74b1e27571f448ca2177b01acc303ba",
            "ccd36231015648c581689ac3aac1877a",
            "9ccce65cb50d4ef19b67006791f09242",
            "134349730c644e468f1d94547febe613",
            "e8d5290cf51344c98491e50539d88839",
            "c08d398296214168ba8692cf4930a29a",
            "fc366062007a4357be2f2e58c8881f3d",
            "98663929ac4c4c329c3a96328debdcd7"
          ]
        },
        "id": "_FgKNAXshgXP",
        "outputId": "ac0f6784-3b56-4a25-bf1f-871bc6dda01b"
      },
      "outputs": [
        {
          "data": {
            "application/vnd.jupyter.widget-view+json": {
              "model_id": "70216f14556a48388843a51db79d7c78",
              "version_major": 2,
              "version_minor": 0
            },
            "text/plain": [
              "Parsing nodes:   0%|          | 0/10 [00:00<?, ?it/s]"
            ]
          },
          "metadata": {},
          "output_type": "display_data"
        }
      ],
      "source": [
        "nodes = node_parser.get_nodes_from_documents(docs,show_progress=True) # armazena os nodes"
      ]
    },
    {
      "cell_type": "code",
      "execution_count": 14,
      "metadata": {
        "colab": {
          "base_uri": "https://localhost:8080/"
        },
        "id": "R4ofiXNfhvhb",
        "outputId": "21201b9e-73ef-4613-b784-0eea9fbc7642"
      },
      "outputs": [
        {
          "data": {
            "text/plain": [
              "[TextNode(id_='8c878ad6-8208-479e-b70b-974305a2a555', embedding=None, metadata={'page_label': '1', 'file_name': 'serenatto_cafes_especiais.pdf', 'file_path': '/content/documentos/serenatto_cafes_especiais.pdf', 'file_type': 'application/pdf', 'file_size': 133957, 'creation_date': '2025-03-12', 'last_modified_date': '2025-03-12'}, excluded_embed_metadata_keys=['file_name', 'file_type', 'file_size', 'creation_date', 'last_modified_date', 'last_accessed_date'], excluded_llm_metadata_keys=['file_name', 'file_type', 'file_size', 'creation_date', 'last_modified_date', 'last_accessed_date'], relationships={<NodeRelationship.SOURCE: '1'>: RelatedNodeInfo(node_id='05c544fa-5573-49e4-aafd-4042173388a8', node_type=<ObjectType.DOCUMENT: '4'>, metadata={'page_label': '1', 'file_name': 'serenatto_cafes_especiais.pdf', 'file_path': '/content/documentos/serenatto_cafes_especiais.pdf', 'file_type': 'application/pdf', 'file_size': 133957, 'creation_date': '2025-03-12', 'last_modified_date': '2025-03-12'}, hash='820b277edf233136c5afd69d8b63f74658d9de4c25893c4e5d205bcb010e8b2e')}, metadata_template='{key}: {value}', metadata_separator='\\n', text='Serenatto  –  Loja  online  de  cafés  especiais   Informações  gerais   P:  Quais  produtos  são  vendidos  no  site  da  Serenatto?  R:  A  Serenatto  é  uma  loja  online  especializada  na  venda  de  grãos  de  cafés  especiais,  \\noferecendo\\n \\ngrãos\\n \\ntorrados,\\n \\nprovenientes\\n \\nde\\n \\nfazendas\\n \\nselecionadas\\n \\nde\\n \\nMinas\\n \\nGerais.\\n \\nTodos\\n \\nos\\n \\nnossos\\n \\ncafés\\n \\npossuem\\n \\nnota\\n \\nSCA\\n \\nacima\\n \\nde\\n \\n80,\\n \\ngarantindo\\n \\nalta\\n \\nqualidade\\n \\ne\\n \\nperfis\\n \\nsensoriais\\n \\nexcepcionais.\\n  P:  De  onde  vêm  os  grãos  de  café  da  Serenatto?   R:  Nossos  grãos  são  cuidadosamente  selecionados  de  fazendas  localizadas  em  Minas  \\nGerais,\\n \\nconhecidas\\n \\npela\\n \\nalta\\n \\nqualidade\\n \\nde\\n \\nseus\\n \\ncafés\\n \\nespeciais.\\n \\nCada\\n \\nfazenda\\n \\né\\n \\nescolhida\\n \\npor\\n \\nsuas\\n \\npráticas\\n \\nsustentáveis\\n \\ne\\n \\npelo\\n \\ncuidado\\n \\nexcepcional\\n \\ncom\\n \\na\\n \\nprodução.\\n  P:  Qual  é  a  quantidade  vendida?  R:  Os  grãos  já  torrados  são  vendidos  em  pacotes  de  250g   P:  Quais  são  as  variedades  de  café  disponíveis?  R:  Trabalhamos  com  as  seguintes  variedades  de  café  em  grãos:  ●  Bourbon  vermelho  ●  Bourbon  amarelo  ●  Blend  especial  (Mistura  de  Bourbon  amarelo  e  vermelho)  ●  Catuaí  amarelo  ●  Geisha  ●  Yirgacheffe   P:  Quais  são  os  preços  de  cada  variedade  de  café?  R:  Os  preços  sãos  os  seguintes:  ●  Bourbon  vermelho:  R$  41,00  ●  Bourbon  amarelo:  R$  43,00  ●  Blend  especial:  R$  37,50  ●  Catuaí  amarelo:  R$  55,00  ●  Geisha:  R$  105,00  ●  Yirgacheffe:  R$  110,00', mimetype='text/plain', start_char_idx=0, end_char_idx=1515, metadata_seperator='\\n', text_template='{metadata_str}\\n\\n{content}'),\n",
              " TextNode(id_='733264a4-b713-4c2a-9462-a6134c91a4e7', embedding=None, metadata={'page_label': '2', 'file_name': 'serenatto_cafes_especiais.pdf', 'file_path': '/content/documentos/serenatto_cafes_especiais.pdf', 'file_type': 'application/pdf', 'file_size': 133957, 'creation_date': '2025-03-12', 'last_modified_date': '2025-03-12'}, excluded_embed_metadata_keys=['file_name', 'file_type', 'file_size', 'creation_date', 'last_modified_date', 'last_accessed_date'], excluded_llm_metadata_keys=['file_name', 'file_type', 'file_size', 'creation_date', 'last_modified_date', 'last_accessed_date'], relationships={<NodeRelationship.SOURCE: '1'>: RelatedNodeInfo(node_id='c6a4c569-3d60-4883-b746-e92ab59cea7a', node_type=<ObjectType.DOCUMENT: '4'>, metadata={'page_label': '2', 'file_name': 'serenatto_cafes_especiais.pdf', 'file_path': '/content/documentos/serenatto_cafes_especiais.pdf', 'file_type': 'application/pdf', 'file_size': 133957, 'creation_date': '2025-03-12', 'last_modified_date': '2025-03-12'}, hash='bec847adca4a9c68d4526807d4fdfcd29c4c111dea59690f379b9554edd6a790')}, metadata_template='{key}: {value}', metadata_separator='\\n', text='P:  A  Serenatto  oferece  cafés  descafeinados?  R:  No  momento,  trabalhamos  apenas  com  cafés  especiais  que  contêm  cafeína.  Todos  \\nos\\n \\nnossos\\n \\ngrãos\\n \\nsão\\n \\nselecionados\\n \\npara\\n \\noferecer\\n \\na\\n \\nmelhor\\n \\nexperiência\\n \\nsensorial,\\n \\nmas\\n \\nnão\\n \\ntemos\\n \\nopções\\n \\ndescafeinadas\\n \\nem\\n \\nnosso\\n \\nportfólio.\\n  P:  Vocês  enviam  para  todos  os  estados  brasileiros?  R:  Sim,  os  cafés  são  enviados  para  todos  os  estados  brasileiros.    P:  Qual  é  o  prazo  de  envio?  R:  O  envio  dos  pedidos  é  realizado  em  até  3  dias  úteis  após  a  confirmação  do  \\npagamento,\\n \\npois\\n \\nenviamos\\n \\no\\n \\ncafé\\n \\nrecém\\n \\ntorrado\\n \\npara\\n \\ngarantir\\n \\nfrescor\\n \\ne\\n \\nqualidade.\\n  P:  Quais  são  os  métodos  de  pagamento  aceitos?  R:  Aceitamos  PIX,  boleto  bancário  e  cartão  de  crédito.   P:  Vocês  oferecem  cursos  ou  workshops  sobre  café?  R:  Estamos  planejando  oferecer  workshops  e  cursos  sobre  métodos  de  preparo  e  \\ndegustação\\n \\nde\\n \\ncafé\\n \\nem\\n \\nbreve.\\n \\nFique\\n \\nde\\n \\nolho\\n \\nem\\n \\nnossas\\n \\nredes\\n \\nsociais\\n \\ne\\n \\nnewsletter\\n \\npara\\n \\nmais\\n \\ninformações.\\n  P:  A  Serenatto  oferece  um  serviço  de  assinatura?   R:  Atualmente,  não  oferecemos  um  serviço  de  assinatura.  No  entanto,  você  pode  \\nrealizar\\n \\npedidos\\n \\nrecorrentes\\n \\nmanualmente\\n \\natravés\\n \\nde\\n \\nnosso\\n \\nsite.\\n \\nEstamos\\n \\nsempre\\n \\navaliando\\n \\nnovos\\n \\nserviços\\n \\nque\\n \\npossam\\n \\nmelhorar\\n \\na\\n \\nexperiência\\n \\nde\\n \\nnossos\\n \\nclientes,\\n \\nentão\\n \\nfique\\n \\natento\\n \\nàs\\n \\natualizações\\n \\nfuturas.\\n  P:  Onde  posso  tirar  mais  dúvidas?  R:  Para  mais  informações,  entre  em  contato  pelo  whatsapp  (11)  99999-9999  ou  envie  \\nemail\\n \\npara\\n \\ncontato@serenatto.com.br.', mimetype='text/plain', start_char_idx=0, end_char_idx=1671, metadata_seperator='\\n', text_template='{metadata_str}\\n\\n{content}'),\n",
              " TextNode(id_='8f8c7ca7-f47a-4f1f-b811-60d092711364', embedding=None, metadata={'page_label': '3', 'file_name': 'serenatto_cafes_especiais.pdf', 'file_path': '/content/documentos/serenatto_cafes_especiais.pdf', 'file_type': 'application/pdf', 'file_size': 133957, 'creation_date': '2025-03-12', 'last_modified_date': '2025-03-12'}, excluded_embed_metadata_keys=['file_name', 'file_type', 'file_size', 'creation_date', 'last_modified_date', 'last_accessed_date'], excluded_llm_metadata_keys=['file_name', 'file_type', 'file_size', 'creation_date', 'last_modified_date', 'last_accessed_date'], relationships={<NodeRelationship.SOURCE: '1'>: RelatedNodeInfo(node_id='2c6ec4d9-0981-49b4-b560-6a183a445326', node_type=<ObjectType.DOCUMENT: '4'>, metadata={'page_label': '3', 'file_name': 'serenatto_cafes_especiais.pdf', 'file_path': '/content/documentos/serenatto_cafes_especiais.pdf', 'file_type': 'application/pdf', 'file_size': 133957, 'creation_date': '2025-03-12', 'last_modified_date': '2025-03-12'}, hash='65b2a41b84abe02a09183b5af96433fa65bc66d1ee2b2b14ad412aa9d26e11e2')}, metadata_template='{key}: {value}', metadata_separator='\\n', text='Variedades  dos  grãos   P:  Quais  são  as  características  de  cada  variedade  de  café?  R:  As  variedades  têm  as  seguintes  características:  ●  Bourbon  vermelho:  Doçura  intensa,  corpo  encorpado,  notas  de  chocolate.  ●  Bourbon  amarelo:  Acidez  vibrante,  notas  cítricas  de  maracujá,  ameixa  e  nêspera .   ●  Blend  especial:  Mistura  do  bourbon  vermelho  e  bourbon  amarelo,  gerando  \\nequilíbrio\\n \\nentre\\n \\ndoçura\\n \\ne\\n \\nacidez,\\n \\ncom\\n \\nnotas\\n \\nde\\n \\ncaramelo\\n \\ne\\n \\nchocolate.\\n ●  Catuaí  amarelo:  Perfil  exótico,  que  carrega  uma  expressiva  acidez  e  notas  de  \\nacerola\\n \\ne\\n \\npitanga.\\n \\n ●  Geisha:  Aroma  floral,  notas  de  jasmim  e  mamão  papaya.   ●  Yirgacheffe:  Acidez  vibrante,  notas  de  mel  de  laranjeira,  chá  de  capim-limão  e  \\nmaçã\\n \\nfuji.\\n \\n  P:  Quero  saber  mais  detalhes  sobre  o  Bourbon  vermelho.  R:  Este  café  possui  doçura  máxima  (5/5),  que  causa  sensação  aveludada  no  céu  da  \\nboca.\\n \\nO\\n \\ncorpo\\n \\né\\n \\nencorpado\\n \\n(5/5)\\n \\ne\\n \\na\\n \\nacidez\\n \\né\\n \\nbaixa\\n \\n(1/5),\\n \\ncom\\n \\num\\n \\nleve\\n \\namargor\\n \\n(2/5).\\n \\nSeu\\n \\nperfil\\n \\nsensorial\\n \\né\\n \\nmarcado\\n \\npor\\n \\nnotas\\n \\nde\\n \\nchocolate.\\n \\nO\\n \\nprocesso\\n \\nde\\n \\nprodução\\n \\né\\n \\nnatural,\\n \\ncultivado\\n \\nem\\n \\naltitudes\\n \\nentre\\n \\n1.200m\\n \\ne\\n \\n1.450m,\\n \\ncom\\n \\ntorra\\n \\nmédia\\n \\nescura.\\n \\n  P:  Quero  mais  detalhes  sobre  o  Bourbon  amarelo.  R:  Este  café  possui  doçura  moderada  (3/5),  corpo  médio  (3/5),  alta  acidez  (5/5)  e  baixo  \\namargor\\n \\n(1/5).\\n \\nPossui\\n \\nsabor\\n \\nresidual\\n \\nlongo\\n \\ne\\n \\nintenso\\n \\nde\\n \\nfrutas\\n \\ncítricas,\\n \\nincluindo\\n \\nnotas\\n \\nde\\n \\nmaracujá,\\n \\nameixa\\n \\ne\\n \\nnêspera.\\n \\nO\\n \\nprocesso\\n \\nutilizado\\n \\né\\n \\no\\n \\ncereja\\n \\ndescascado,\\n \\ncultivado\\n \\nem\\n \\naltitudes\\n \\nentre\\n \\n1.200m\\n \\ne\\n \\n1.450m,\\n \\ncom\\n \\ntorra\\n \\nmédia\\n \\nclara.\\n \\n  P:  Quero  saber  mais  detalhes  sobre  o  Blend  especial.  R:  É  uma  mistura  do  Bourbon  amarelo  com  o  Bourbon  vermelho,  ideal  para  quem  \\nbusca\\n \\no\\n \\nequilíbrio\\n \\nperfeito.\\n \\nEsta\\n \\nmistura\\n \\napresenta\\n \\ndoçura\\n \\nalta\\n \\n(4/5),\\n \\ncorpo\\n \\nmédio-alto\\n \\n(4/5)\\n \\ne\\n \\nacidez\\n \\nmédia-alta\\n \\n(4/5),\\n \\ncom\\n \\namargor\\n \\nbaixo\\n \\n(1/5).\\n \\nSeu\\n \\nperfil\\n \\nsensorial\\n \\ncombina\\n \\ncaramelo\\n \\ne\\n \\nchocolate.\\n \\nO\\n \\nprocesso\\n \\ninclui\\n \\ncereja\\n \\ndescascado\\n \\ne\\n \\nnatural,\\n \\ncultivado\\n \\nem\\n \\naltitudes\\n \\nentre\\n \\n1.200m\\n \\ne\\n \\n1.450m,\\n \\ncom\\n \\ntorra\\n \\nmédia.\\n  P:  Quero  mais  detalhes  sobre  o  Catuaí  amarelo.  R:  Este  café  possui  doçura  máxima  (5/5)  e  corpo  médio-alto  (4/5)  e  amargor  baixo  \\n(1/5).\\n \\nEle\\n \\nainda\\n \\ncarrega\\n \\numa\\n \\nexpressiva\\n \\nacidez\\n \\ne\\n \\nnotas\\n \\nmaravilhosas\\n \\nde\\n \\npitanga,\\n \\nfugindo\\n \\nmuito\\n \\ndo\\n \\ntradicional.\\n \\nÉ\\n \\num\\n \\ncafé\\n \\npara\\n \\nquem\\n \\nbusca\\n \\numa\\n \\nexperiência\\n \\nsensorial\\n \\ndiferenciada.\\n \\nO\\n \\nprocesso\\n \\né\\n \\nfermentado,\\n \\ncultivado\\n \\nem\\n \\naltitude\\n \\nde\\n \\n1.200m,\\n \\ncom\\n \\ntorra\\n \\nmédia.', mimetype='text/plain', start_char_idx=0, end_char_idx=2787, metadata_seperator='\\n', text_template='{metadata_str}\\n\\n{content}'),\n",
              " TextNode(id_='14111b5e-8d68-4379-91ca-e649a7593e59', embedding=None, metadata={'page_label': '4', 'file_name': 'serenatto_cafes_especiais.pdf', 'file_path': '/content/documentos/serenatto_cafes_especiais.pdf', 'file_type': 'application/pdf', 'file_size': 133957, 'creation_date': '2025-03-12', 'last_modified_date': '2025-03-12'}, excluded_embed_metadata_keys=['file_name', 'file_type', 'file_size', 'creation_date', 'last_modified_date', 'last_accessed_date'], excluded_llm_metadata_keys=['file_name', 'file_type', 'file_size', 'creation_date', 'last_modified_date', 'last_accessed_date'], relationships={<NodeRelationship.SOURCE: '1'>: RelatedNodeInfo(node_id='846f2cbc-d064-4512-a8af-dbfff3baa699', node_type=<ObjectType.DOCUMENT: '4'>, metadata={'page_label': '4', 'file_name': 'serenatto_cafes_especiais.pdf', 'file_path': '/content/documentos/serenatto_cafes_especiais.pdf', 'file_type': 'application/pdf', 'file_size': 133957, 'creation_date': '2025-03-12', 'last_modified_date': '2025-03-12'}, hash='b82102440f6699a6ddd49badfc337f8b613231e32c580166af49db205c8a577f')}, metadata_template='{key}: {value}', metadata_separator='\\n', text='P:  Quero  saber  mais  detalhes  sobre  o  Geisha.  R:  Este  café  premium  possui  doçura  máxima  (5/5),  corpo  encorpado  (5/5)  e  acidez  \\nmoderada-alta\\n \\n(4/5),\\n \\ncom\\n \\namargor\\n \\nbaixo\\n \\n(1/5).\\n \\nSeu\\n \\nperfil\\n \\nsensorial\\n \\ntem\\n \\naroma\\n \\nfloral\\n \\ne\\n \\né\\n \\nmarcado\\n \\npor\\n \\nnotas\\n \\nde\\n \\njasmim\\n \\ne\\n \\nmamão\\n \\npapaya.\\n \\nO\\n \\nprocesso\\n \\né\\n \\nfermentado,\\n \\ncultivado\\n \\nem\\n \\naltitude\\n \\nde\\n \\n1.150m,\\n \\ncom\\n \\ntorra\\n \\nclara.\\n  P:  Quero  saber  mais  detalhes  sobre  o  Yirgacheffe.   R:  Este  café  premium  possui  doçura  máxima  (5/5)  e  corpo  médio-alto  (4/5),  \\ndestacando-se\\n \\npela\\n \\nalta\\n \\nacidez\\n \\n(5/5)\\n \\ne\\n \\namargor\\n \\nbaixo\\n \\n(1/5).\\n \\nSeu\\n \\nperfil\\n \\nsensorial\\n \\ninclui\\n \\nnotas\\n \\nde\\n \\nmel\\n \\nde\\n \\nlaranjeira,\\n \\nchá\\n \\nde\\n \\ncapim-limão\\n \\ne\\n \\nmaçã\\n \\nfuji.\\n \\nA\\n \\nacidez\\n \\né\\n \\nvibrante,\\n \\ncom\\n \\ncorpo\\n \\nsedoso\\n \\ne\\n \\nfinalização\\n \\ndoce\\n \\nfrutada.\\n \\nO\\n \\nprocesso\\n \\né\\n \\nfermentado,\\n \\ncultivado\\n \\nem\\n \\naltitude\\n \\nde\\n \\n1.300m,\\n \\ncom\\n \\ntorra\\n \\nclara.\\n \\n  P:  Qual  café  da  Serenatto  é  mais  indicado  para  quem  prefere  sabores  suaves?  R:  Para  quem  prefere  sabores  suaves,  recomendamos  o  Bourbon  Vermelho,  que  \\npossui\\n \\ndoçura\\n \\nintensa,\\n \\ncorpo\\n \\nencorpado\\n \\ne\\n \\nnotas\\n \\nde\\n \\nchocolate,\\n \\ncom\\n \\nacidez\\n \\nbaixa\\n \\ne\\n \\namargor\\n \\nleve.\\n  P:  Qual  café  é  mais  indicado  para  quem  gosta  de  acidez  marcante?  R:  Se  você  aprecia  acidez  vibrante,  experimente  o  Bourbon  amarelo,  Catuaí  amarelo  \\nou\\n \\no\\n \\nYirgacheffe.\\n \\nAmbos\\n \\npossuem\\n \\nacidez\\n \\nalta\\n \\ne\\n \\nnotas\\n \\ncítricas\\n \\ne\\n \\nfrutadas\\n \\nque\\n \\ndestacam\\n \\nessa\\n \\ncaracterística.\\n  P:  Vocês  têm  cafés  com  notas  florais?  R:  Sim,  o  Geisha  é  a  melhor  opção  para  quem  busca  notas  florais.  Ele  possui  aroma  de  \\njasmim\\n \\ne\\n \\nnotas\\n \\nde\\n \\nmamão\\n \\npapaya,\\n \\ncom\\n \\numa\\n \\nacidez\\n \\nagradável\\n \\ne\\n \\ndoçura\\n \\nmáxima.\\n  P:  Como  posso  identificar  notas  diferentes  no  café?   R:  Identificar  notas  em  café  é  uma  habilidade  que  pode  ser  aprimorada  com  a  prática.  \\nComece\\n \\nprovando\\n \\ncafés\\n \\nde\\n \\ndiferentes\\n \\nregiões\\n \\ne\\n \\nprestando\\n \\natenção\\n \\nàs\\n \\ndescrições\\n \\ndas\\n \\nnotas\\n \\nna\\n \\nembalagem.\\n \\nTente\\n \\nidentificar\\n \\nessas\\n \\nnotas\\n \\nenquanto\\n \\nsaboreia\\n \\nlentamente,\\n \\nprestando\\n \\natenção\\n \\nao\\n \\naroma,\\n \\nsabor\\n \\ne\\n \\nsensação\\n \\nna\\n \\nboca.', mimetype='text/plain', start_char_idx=0, end_char_idx=2247, metadata_seperator='\\n', text_template='{metadata_str}\\n\\n{content}'),\n",
              " TextNode(id_='6da80a9e-79c8-4c8b-8d48-d543d58e1e90', embedding=None, metadata={'page_label': '5', 'file_name': 'serenatto_cafes_especiais.pdf', 'file_path': '/content/documentos/serenatto_cafes_especiais.pdf', 'file_type': 'application/pdf', 'file_size': 133957, 'creation_date': '2025-03-12', 'last_modified_date': '2025-03-12'}, excluded_embed_metadata_keys=['file_name', 'file_type', 'file_size', 'creation_date', 'last_modified_date', 'last_accessed_date'], excluded_llm_metadata_keys=['file_name', 'file_type', 'file_size', 'creation_date', 'last_modified_date', 'last_accessed_date'], relationships={<NodeRelationship.SOURCE: '1'>: RelatedNodeInfo(node_id='ea859b13-12f3-40e4-a6fe-52261a840b77', node_type=<ObjectType.DOCUMENT: '4'>, metadata={'page_label': '5', 'file_name': 'serenatto_cafes_especiais.pdf', 'file_path': '/content/documentos/serenatto_cafes_especiais.pdf', 'file_type': 'application/pdf', 'file_size': 133957, 'creation_date': '2025-03-12', 'last_modified_date': '2025-03-12'}, hash='7b9d1a9704af83f36026eef834fecb8eea42db04f1cf9e466ee59b770fe355d3')}, metadata_template='{key}: {value}', metadata_separator='\\n', text='Nota  SCA   P:  O  que  é  a  nota  SCA?  R:  A  nota  SCA  (Specialty  Coffee  Association)  é  uma  avaliação  que  classifica  a  \\nqualidade\\n \\ndo\\n \\ncafé\\n \\ncom\\n \\nbase\\n \\nem\\n \\ncritérios\\n \\npadronizados.\\n \\nA\\n \\npontuação\\n \\nvaria\\n \\nde\\n \\n0\\n \\na\\n \\n100,\\n \\ne\\n \\ncafés\\n \\ncom\\n \\nnota\\n \\nacima\\n \\nde\\n \\n80\\n \\nsão\\n \\nconsiderados\\n \\nespeciais.\\n \\nA\\n \\navaliação\\n \\nconsidera\\n \\naspectos\\n \\ncomo\\n \\naroma,\\n \\nsabor,\\n \\nacidez,\\n \\ncorpo,\\n \\nequilíbrio,\\n \\ndoçura\\n \\ne\\n \\nfinalização.\\n \\nCafés\\n \\ncom\\n \\nnotas\\n \\nacima\\n \\nde\\n \\n85\\n \\nsão\\n \\nde\\n \\naltíssima\\n \\nqualidade,\\n \\ne\\n \\nacima\\n \\nde\\n \\n90\\n \\nsão\\n \\nraros\\n \\ne\\n \\nexcepcionais.\\n  P:  Quais  são  as  notas  SCA  dos  cafés  da  Serenatto?  R:  Os  cafés  da  Serenatto  têm  as  seguintes  notas  SCA:  ●  Bourbon  vermelho:  85  ●  Bourbon  amarelo:  86  ●  Blend  especial:  85  ●  Catuaí  amarelo:  87  ●  Geisha:  90  ●  Yirgacheffe:  90    P:  Quais  são  os  cafés  mais  bem  avaliados  da  Serenatto?  R:  Geisha  e  Yirgacheffe.  Ambos  com  Nota  SCA  90.', mimetype='text/plain', start_char_idx=0, end_char_idx=967, metadata_seperator='\\n', text_template='{metadata_str}\\n\\n{content}'),\n",
              " TextNode(id_='f5e13b67-7e93-4bca-af29-47111f929eb9', embedding=None, metadata={'page_label': '6', 'file_name': 'serenatto_cafes_especiais.pdf', 'file_path': '/content/documentos/serenatto_cafes_especiais.pdf', 'file_type': 'application/pdf', 'file_size': 133957, 'creation_date': '2025-03-12', 'last_modified_date': '2025-03-12'}, excluded_embed_metadata_keys=['file_name', 'file_type', 'file_size', 'creation_date', 'last_modified_date', 'last_accessed_date'], excluded_llm_metadata_keys=['file_name', 'file_type', 'file_size', 'creation_date', 'last_modified_date', 'last_accessed_date'], relationships={<NodeRelationship.SOURCE: '1'>: RelatedNodeInfo(node_id='153a8b59-1e33-4802-8c87-856a2e2b769d', node_type=<ObjectType.DOCUMENT: '4'>, metadata={'page_label': '6', 'file_name': 'serenatto_cafes_especiais.pdf', 'file_path': '/content/documentos/serenatto_cafes_especiais.pdf', 'file_type': 'application/pdf', 'file_size': 133957, 'creation_date': '2025-03-12', 'last_modified_date': '2025-03-12'}, hash='7d31d424a8649ebae7cda3b323e92e3d6f9976ff390cf6ac18135ace057bdac6')}, metadata_template='{key}: {value}', metadata_separator='\\n', text='Produção  dos  cafés   P:  Quais  são  os  processos  de  produção  dos  cafés?  R:  Nossos  cafés  podem  ter  os  seguintes  processos  de  produção:  -  Natural:  Os  frutos  do  café  (cerejas)  são  secos  inteiros,  resultando  em  cafés  com  \\nalta\\n \\ndoçura,\\n \\ncorpo\\n \\nencorpado\\n \\ne\\n \\nnotas\\n \\nfrutadas\\n \\nou\\n \\nde\\n \\nchocolate.\\n -  Cereja  descascado:  A  casca  dos  frutos  do  café  é  removida,  mas  parte  da  polpa  \\npermanece,\\n \\ngerando\\n \\ncafés\\n \\ncom\\n \\ndoçura\\n \\nequilibrada,\\n \\ncorpo\\n \\nmédio\\n \\na\\n \\nencorpado\\n \\ne\\n \\nacidez\\n \\nmais\\n \\npronunciada,\\n \\ncom\\n \\nnotas\\n \\ncítricas\\n \\ne\\n \\nfrutadas\\n -  Fermentado:  O  processo  fermentado  envolve  a  secagem  das  cerejas  inteiras  \\ncom\\n \\nfermentação\\n \\ncontrolada,\\n \\ndestacando\\n \\nsabores\\n \\nexóticos.\\n  P:  Como  a  torra  influencia  no  sabor  do  café?  R:  As  torras  influenciam  da  seguinte  forma:   -  Torra  clara:  Preserva  notas  frutadas,  florais  e  cítricas,  com  acidez  vibrante  e  \\ncorpo\\n \\nleve.\\n -  Torra  média:  Equilíbrio  entre  doçura  e  acidez,  com  notas  de  chocolate,  caramelo  \\ne\\n \\nnozes,\\n \\nalém\\n \\nde\\n \\num\\n \\ncorpo\\n \\nmais\\n \\nencorpado.\\n -  Torra  escura:  Sabores  intensos  e  amargos,  acidez  baixa  e  corpo  pesado,  comum  \\nem\\n \\ncafés\\n \\npara\\n \\nespresso\\n \\nou\\n \\npara\\n \\nquem\\n \\nprefere\\n \\nsabores\\n \\nmais\\n \\nrobustos.\\n  P:  Como  a  altitude  afeta  os  grãos  de  café?   R:  A  altitude  em  que  os  grãos  de  café  são  cultivados  desempenha  um  papel  \\nfundamental\\n \\nno\\n \\ndesenvolvimento\\n \\ndas\\n \\ncaracterísticas\\n \\ndo\\n \\ncafé.\\n \\nDe\\n \\nmaneira\\n \\ngeral,\\n \\nquanto\\n \\nmaior\\n \\na\\n \\naltitude,\\n \\nmais\\n \\nlentamente\\n \\no\\n \\ncafé\\n \\namadurece.\\n \\nIsso\\n \\nproporciona\\n \\nmais\\n \\ntempo\\n \\npara\\n \\nque\\n \\nos\\n \\ngrãos\\n \\ndesenvolvam\\n \\nsabores\\n \\ncomplexos\\n \\ne\\n \\nnuances\\n \\naromáticas.', mimetype='text/plain', start_char_idx=0, end_char_idx=1742, metadata_seperator='\\n', text_template='{metadata_str}\\n\\n{content}'),\n",
              " TextNode(id_='12880406-c09b-4706-8710-0de2cc6c4f50', embedding=None, metadata={'page_label': '7', 'file_name': 'serenatto_cafes_especiais.pdf', 'file_path': '/content/documentos/serenatto_cafes_especiais.pdf', 'file_type': 'application/pdf', 'file_size': 133957, 'creation_date': '2025-03-12', 'last_modified_date': '2025-03-12'}, excluded_embed_metadata_keys=['file_name', 'file_type', 'file_size', 'creation_date', 'last_modified_date', 'last_accessed_date'], excluded_llm_metadata_keys=['file_name', 'file_type', 'file_size', 'creation_date', 'last_modified_date', 'last_accessed_date'], relationships={<NodeRelationship.SOURCE: '1'>: RelatedNodeInfo(node_id='3a8cbc6a-96cf-4d5c-870f-ba91a82d6131', node_type=<ObjectType.DOCUMENT: '4'>, metadata={'page_label': '7', 'file_name': 'serenatto_cafes_especiais.pdf', 'file_path': '/content/documentos/serenatto_cafes_especiais.pdf', 'file_type': 'application/pdf', 'file_size': 133957, 'creation_date': '2025-03-12', 'last_modified_date': '2025-03-12'}, hash='1e70188952fad1d0efcd020911e508a9dd2cf51c4a16f964c0c7c1c6868c68ec')}, metadata_template='{key}: {value}', metadata_separator='\\n', text='Modo  de  preparo  recomendado:  Coado   P:  Quanto  de  café  devo  usar  para  preparar  os  cafés  da  Serenatto?  R:  Para  obter  os  melhores  resultados  na  preparação  dos  nossos  cafés,  sugerimos  \\nseguir\\n \\numa\\n \\nreceita\\n \\nbase\\n \\nonde\\n \\n15\\n \\ngramas\\n \\nde\\n \\ncafé\\n \\nsão\\n \\nusados\\n \\npara\\n \\ncada\\n \\n240\\n \\nmL\\n \\nde\\n \\nágua.\\n \\nEsta\\n \\nproporção\\n \\n(1:16)\\n \\né\\n \\nideal\\n \\npara\\n \\numa\\n \\nextração\\n \\ncompleta\\n \\ndos\\n \\nsabores\\n \\nricos\\n \\ne\\n \\nnuances\\n \\ndo\\n \\ncafé.\\n \\nClaro,\\n \\nvocê\\n \\npode\\n \\najustar\\n \\nas\\n \\nmedidas\\n \\npara\\n \\nmais\\n \\nou\\n \\npara\\n \\nmenos\\n \\nconforme\\n \\nsua\\n \\npreferência.\\n \\nCaso\\n \\nseja\\n \\nsua\\n \\nprimeira\\n \\nexperiência\\n \\ncom\\n \\nnossos\\n \\ncafés,\\n \\nessa\\n \\nreceita\\n \\nserve\\n \\ncomo\\n \\num\\n \\nexcelente\\n \\nponto\\n \\nde\\n \\npartida.\\n  P:  Qual  método  vocês  recomendam  para  preparar  os  cafés  da  Serenatto?  R:  Nós  recomendamos  o  V60,  um  método  de  preparo  de  café  que  se  destaca  pelo  seu  \\nformato\\n \\ncônico\\n \\ncom\\n \\nlinhas\\n \\nespirais\\n \\ninternas\\n \\ne\\n \\numa\\n \\ngrande\\n \\nabertura\\n \\nna\\n \\nbase.\\n \\nEssas\\n \\ncaracterísticas\\n \\npermitem\\n \\num\\n \\ncontrole\\n \\npreciso\\n \\nsobre\\n \\na\\n \\ninfusão,\\n \\nresultando\\n \\nem\\n \\num\\n \\ncafé\\n \\ncom\\n \\nextração\\n \\nuniforme\\n \\ne\\n \\nrica\\n \\nem\\n \\nsabores.\\n  P:  Qual  é  o  passo  a  passo  para  preparar  o  café  coado?  R:  Você  pode  seguir  as  seguintes  etapas  do  preparo:  1.  Preparação  da  água:  Aqueça  a  água  até  uma  temperatura  entre  94ºC  e  96ºC.  2.  Pesagem  do  café:  Use  a  proporção  de  1  grama  de  café  para  cada  16  mL  de  água.  3.  Moagem  do  café:  Moa  o  café  até  atingir  uma  granulação  média-fina,  semelhante  a  \\naçúcar\\n \\ncristal.\\n \\n 4.  Preparação  do  filtro:  Coloque  o  filtro  de  papel  no  suporte  V60.  Antes  de  adicionar  o  \\ncafé,\\n \\nescalde\\n \\no\\n \\nfiltro\\n \\ncom\\n \\nágua\\n \\nquente\\n \\npara\\n \\nremover\\n \\nqualquer\\n \\nsabor\\n \\nde\\n \\npapel\\n \\ne\\n \\npré-aquecer\\n \\no\\n \\nsuporte.\\n 5.  Adição  do  café:  Despeje  o  pó  no  filtro.  6.  Infusão:  Adicione  a  água  quente  lentamente  sobre  o  café,  preferencialmente  em  \\nciclos,\\n \\ncomeçando\\n \\ndo\\n \\ncentro\\n \\ne\\n \\nmovendo\\n \\npara\\n \\nfora\\n \\nem\\n \\nmovimento\\n \\nespiral.\\n \\nIsso\\n \\najuda\\n \\na\\n \\ngarantir\\n \\numa\\n \\nextração\\n \\nuniforme\\n \\nde\\n \\ntodos\\n \\nos\\n \\nsabores\\n \\ne\\n \\naromas.\\n 7.  Finalização:  Após  a  passagem  da  água,  remova  o  filtro  e  descarte-o.  Agora  é  só  \\nservir\\n \\ne\\n \\ndesfrutar\\n \\ndo\\n \\nseu\\n \\ndelicioso\\n \\ncafé.\\n  P:  Que  tipo  de  água  devo  usar  para  fazer  café?   R:  Recomendamos  usar  água  filtrada  com  baixo  teor  de  minerais.  A  qualidade  da  água  \\ntem\\n \\num\\n \\ngrande\\n \\nimpacto\\n \\nno\\n \\nsabor\\n \\nfinal\\n \\ndo\\n \\ncafé,\\n \\npor\\n \\nisso\\n \\nágua\\n \\npura,\\n \\nsem\\n \\ncloro\\n \\nou\\n \\nimpurezas,\\n \\né\\n \\nessencial.', mimetype='text/plain', start_char_idx=0, end_char_idx=2614, metadata_seperator='\\n', text_template='{metadata_str}\\n\\n{content}'),\n",
              " TextNode(id_='9742b4ed-ee62-4364-bafa-77101cd0bca2', embedding=None, metadata={'page_label': '8', 'file_name': 'serenatto_cafes_especiais.pdf', 'file_path': '/content/documentos/serenatto_cafes_especiais.pdf', 'file_type': 'application/pdf', 'file_size': 133957, 'creation_date': '2025-03-12', 'last_modified_date': '2025-03-12'}, excluded_embed_metadata_keys=['file_name', 'file_type', 'file_size', 'creation_date', 'last_modified_date', 'last_accessed_date'], excluded_llm_metadata_keys=['file_name', 'file_type', 'file_size', 'creation_date', 'last_modified_date', 'last_accessed_date'], relationships={<NodeRelationship.SOURCE: '1'>: RelatedNodeInfo(node_id='b4788158-79a5-45e7-9b82-769bfde39306', node_type=<ObjectType.DOCUMENT: '4'>, metadata={'page_label': '8', 'file_name': 'serenatto_cafes_especiais.pdf', 'file_path': '/content/documentos/serenatto_cafes_especiais.pdf', 'file_type': 'application/pdf', 'file_size': 133957, 'creation_date': '2025-03-12', 'last_modified_date': '2025-03-12'}, hash='281a43472b035de033ca5d67c661522c00898eb0ec27cd7722cf6814cf12cd65')}, metadata_template='{key}: {value}', metadata_separator='\\n', text='Café  gelado   P:  Como  posso  preparar  café  gelado?   R:  Para  preparar  um  delicioso  café  gelado,  você  pode  usar  o  método  do  coado,  \\ncontendo\\n \\n40%\\n \\ndo\\n \\nvolume\\n \\nem\\n \\ngelo\\n \\ne\\n \\n60%\\n \\ndo\\n \\nvolume\\n \\nem\\n \\nágua\\n \\nquente,\\n \\nseguindo\\n \\nas\\n \\nseguintes\\n \\netapas:\\n 1.  Pesagem  do  café:  Use  a  proporção  de  1  grama  de  café  para  cada  16  mL  de  água  \\ntotal\\n 2.  Moagem  do  Café:  Moa  o  café  levemente  mais  fino  do  que  o  usado  para  coado  \\nnormal.\\n \\nIsso\\n \\najudará\\n \\nna\\n \\nextração\\n \\ndos\\n \\nsabores,\\n \\ndado\\n \\no\\n \\ntempo\\n \\nde\\n \\ncontato\\n \\nmais\\n \\ncurto\\n \\ncom\\n \\na\\n \\nágua.\\n 3.  Preparação  do  Filtro:  Coloque  o  filtro  de  papel  no  suporte  e  escalde-o  com  água  \\nquente.\\n \\nIsso\\n \\nremove\\n \\nqualquer\\n \\nsabor\\n \\nresidual\\n \\ndo\\n \\npapel\\n \\ne\\n \\najuda\\n \\na\\n \\npré-aquecer\\n \\no\\n \\nsuporte.\\n 4.  Preparação  do  Gelo:  Coloque  gelo  para  ocupar  cerca  de  40%  do  volume  total  da  sua  \\njarra\\n \\nou\\n \\nrecipiente.\\n 5.  Adição  do  café:  Despeje  o  pó  no  filtro.  6.  Pré-infusão:  Adicione  uma  pequena  quantidade  de  água  quente  (entre  94ºC  e  96ºC)  \\nsobre\\n \\no\\n \\ncafé\\n \\nmoído\\n \\nno\\n \\nfiltro,\\n \\nsuficiente\\n \\npara\\n \\numedecer\\n \\ntodo\\n \\no\\n \\ncafé.\\n \\nDeixe\\n \\nem\\n \\npré-infusão\\n \\npor\\n \\n1\\n \\nminuto\\n \\npara\\n \\nliberar\\n \\nos\\n \\nóleos\\n \\nessenciais\\n \\ne\\n \\naromas\\n \\ndo\\n \\ncafé.\\n \\n 7.  Despejo:  Após  a  pré-infusão,  continue  adicionando  a  água  quente  em  ciclos,  \\ndespejando\\n \\nlentamente\\n \\nem\\n \\nmovimentos\\n \\ncirculares\\n \\npara\\n \\ngarantir\\n \\numa\\n \\nextração\\n \\nuniforme.\\n 8.  Finalização:  Após  completar  os  despejos,  deixe  o  café  terminar  de  filtrar  sobre  o  \\ngelo.\\n \\nO\\n \\ngelo\\n \\nderreterá\\n \\nparcialmente,\\n \\nresfriando\\n \\no\\n \\ncafé\\n \\ninstantaneamente\\n \\ne\\n \\ndiluindo-o\\n \\nna\\n \\nproporção\\n \\ncorreta.\\n Este  método  garante  um  café  coado  gelado  refrescante  e  saboroso,  perfeito  para  os  \\ndias\\n \\nmais\\n \\nquentes!', mimetype='text/plain', start_char_idx=0, end_char_idx=1842, metadata_seperator='\\n', text_template='{metadata_str}\\n\\n{content}'),\n",
              " TextNode(id_='c79c1c66-8627-4623-a222-73950450cb2f', embedding=None, metadata={'page_label': '9', 'file_name': 'serenatto_cafes_especiais.pdf', 'file_path': '/content/documentos/serenatto_cafes_especiais.pdf', 'file_type': 'application/pdf', 'file_size': 133957, 'creation_date': '2025-03-12', 'last_modified_date': '2025-03-12'}, excluded_embed_metadata_keys=['file_name', 'file_type', 'file_size', 'creation_date', 'last_modified_date', 'last_accessed_date'], excluded_llm_metadata_keys=['file_name', 'file_type', 'file_size', 'creation_date', 'last_modified_date', 'last_accessed_date'], relationships={<NodeRelationship.SOURCE: '1'>: RelatedNodeInfo(node_id='65b8aaf8-1d46-48be-b90d-05277bd9192f', node_type=<ObjectType.DOCUMENT: '4'>, metadata={'page_label': '9', 'file_name': 'serenatto_cafes_especiais.pdf', 'file_path': '/content/documentos/serenatto_cafes_especiais.pdf', 'file_type': 'application/pdf', 'file_size': 133957, 'creation_date': '2025-03-12', 'last_modified_date': '2025-03-12'}, hash='e5c7da153d92739e466a244bd1e759d2fa4ad4750b87c2f140fed396d5411676')}, metadata_template='{key}: {value}', metadata_separator='\\n', text='Outros  métodos  de  preparo  além  do  recomendado:   P:  Posso  usar  os  cafés  da  Serenatto  em  máquinas  de  espresso?  R:  Sim,  nossos  cafés  podem  ser  usados  em  máquinas  de  espresso.  Para  esse  método,  \\nrecomendamos\\n \\numa\\n \\nmoagem\\n \\nfina\\n \\ne\\n \\ncafés\\n \\ncom\\n \\ntorra\\n \\nmédia\\n \\nou\\n \\nescura,\\n \\ncomo\\n \\no\\n \\nBourbon\\n \\nvermelho\\n \\nou\\n \\no\\n \\nBlend\\n \\nespecial,\\n \\nque\\n \\npossuem\\n \\ncorpo\\n \\nencorpado\\n \\ne\\n \\nsabores\\n \\nintensos.\\n  P:  Vocês  têm  dicas  para  French  Press?  R:  Para  o  French  Press,  recomendamos  uma  moagem  grossa  e  uma  proporção  de  \\n1:15\\n \\n(1\\n \\ngrama\\n \\nde\\n \\ncafé\\n \\npara\\n \\n15\\n \\nmL\\n \\nde\\n \\nágua).\\n \\nUse\\n \\nágua\\n \\na\\n \\n94ºC\\n \\ne\\n \\ndeixe\\n \\no\\n \\ncafé\\n \\nem\\n \\ninfusão\\n \\npor\\n \\n4\\n \\nminutos.\\n \\nDepois,\\n \\npressione\\n \\no\\n \\nêmbolo\\n \\nlentamente\\n \\ne\\n \\nsirva\\n \\nimediatamente.\\n  P:  Qual  café  é  melhor  para  preparo  cold  brew?  R:  Para  cold  brew,  recomendamos  o  Catuaí  amarelo  ou  o  yirgacheffe,  que  possuem  \\nnotas\\n \\nfrutadas\\n \\ne\\n \\nacidez\\n \\nvibrante,\\n \\ncaracterísticas\\n \\nque\\n \\nse\\n \\ndestacam\\n \\nnesse\\n \\nmétodo\\n \\nde\\n \\npreparo.\\n \\nUse\\n \\numa\\n \\nmoagem\\n \\ngrossa\\n \\ne\\n \\ndeixe\\n \\nem\\n \\ninfusão\\n \\npor\\n \\n12\\n \\na\\n \\n24\\n \\nhoras\\n \\nna\\n \\ngeladeira.\\n  P:  Qual  é  a  moagem  ideal  para  diferentes  tipos  de  preparo?   R:  A  moagem  varia  de  acordo  com  o  método  de  preparo:  ●  Espresso:  Moagem  fina  ●  V60:  Moagem  média-fina  ●  French  Press:  Moagem  grossa  ●  Cold  Brew:  Moagem  grossa   Adaptar  a  moagem  ao  método  de  preparo  ajuda  a  maximizar  o  sabor  e  a  qualidade  da  \\nbebida.\\n  P:  Por  que  moer  o  café  na  hora  é  importante?  R:  Moer  o  café  na  hora  é  essencial  para  garantir  uma  bebida  de  alta  qualidade,  pois  \\npreserva\\n \\no\\n \\nfrescor,\\n \\no\\n \\naroma\\n \\ne\\n \\nos\\n \\nsabores\\n \\nnaturais\\n \\ndos\\n \\ngrãos.\\n \\nQuando\\n \\no\\n \\ncafé\\n \\né\\n \\nmoído,\\n \\nseus\\n \\nóleos\\n \\ne\\n \\ncompostos\\n \\naromáticos\\n \\ncomeçam\\n \\na\\n \\nse\\n \\ndegradar\\n \\nrapidamente\\n \\nem\\n \\ncontato\\n \\ncom\\n \\no\\n \\nar.\\n \\nMoer\\n \\nna\\n \\nhora\\n \\nevita\\n \\nessa\\n \\nperda,\\n \\nresultando\\n \\nem\\n \\num\\n \\ncafé\\n \\nmais\\n \\nrico\\n \\ne\\n \\nsaboroso.\\n \\nAlém\\n \\ndisso,\\n \\npermite\\n \\najustar\\n \\na\\n \\nmoagem\\n \\npara\\n \\no\\n \\nmétodo\\n \\nde\\n \\npreparo\\n \\nescolhido,\\n \\ngarantindo\\n \\numa\\n \\nextração\\n \\nequilibrada\\n \\ne\\n \\nevitando\\n \\nsabores\\n \\naguados\\n \\nou\\n \\namargos.', mimetype='text/plain', start_char_idx=0, end_char_idx=2207, metadata_seperator='\\n', text_template='{metadata_str}\\n\\n{content}'),\n",
              " TextNode(id_='4cb01510-63e1-46d4-891f-74de84f85bb4', embedding=None, metadata={'page_label': '10', 'file_name': 'serenatto_cafes_especiais.pdf', 'file_path': '/content/documentos/serenatto_cafes_especiais.pdf', 'file_type': 'application/pdf', 'file_size': 133957, 'creation_date': '2025-03-12', 'last_modified_date': '2025-03-12'}, excluded_embed_metadata_keys=['file_name', 'file_type', 'file_size', 'creation_date', 'last_modified_date', 'last_accessed_date'], excluded_llm_metadata_keys=['file_name', 'file_type', 'file_size', 'creation_date', 'last_modified_date', 'last_accessed_date'], relationships={<NodeRelationship.SOURCE: '1'>: RelatedNodeInfo(node_id='73f99a16-33fd-4e81-8dba-970b8afffca9', node_type=<ObjectType.DOCUMENT: '4'>, metadata={'page_label': '10', 'file_name': 'serenatto_cafes_especiais.pdf', 'file_path': '/content/documentos/serenatto_cafes_especiais.pdf', 'file_type': 'application/pdf', 'file_size': 133957, 'creation_date': '2025-03-12', 'last_modified_date': '2025-03-12'}, hash='54ca4fc7b770a7c832c0b03e122cb6d0dfd82241edbe306a0161b80d8ed17a5a')}, metadata_template='{key}: {value}', metadata_separator='\\n', text='Armazenamento  e  validade   P:  Como  devo  armazenar  os  grãos  de  café  para  manter  a  qualidade?  R:  Recomendamos  armazenar  os  grãos  em  um  recipiente  hermético,  longe  da  umidade  \\ne\\n \\ncalor.\\n \\nEvite\\n \\nguardar\\n \\no\\n \\ncafé\\n \\nna\\n \\ngeladeira,\\n \\npois\\n \\na\\n \\numidade\\n \\ne\\n \\nas\\n \\nvariações\\n \\nde\\n \\ntemperatura\\n \\npodem\\n \\nprejudicar\\n \\no\\n \\nsabor\\n \\ne\\n \\no\\n \\naroma.\\n  P:  Qual  é  a  validade  dos  cafés  da  Serenatto?  R:  Nossos  cafés  são  enviados  recém-torrados  para  garantir  frescor.  Para  uma  \\nexperiência\\n \\nmelhor\\n \\ncom\\n \\nas\\n \\ncaracterísticas\\n \\ndas\\n \\nnotas\\n \\nsensoriais\\n \\ne\\n \\na\\n \\nintensidade\\n \\ndo\\n \\naroma,\\n \\no\\n \\nconsumo\\n \\ndeve\\n \\nser\\n \\nentre\\n \\ntrês\\n \\ne\\n \\nquatro\\n \\nmeses.\\n \\nNo\\n \\nentanto,\\n \\ndepois\\n \\nde\\n \\naberto,\\n \\no\\n \\nconsumo\\n \\ndeve\\n \\nser,\\n \\nde\\n \\npreferência,\\n \\nentre\\n \\nduas\\n \\n(quando\\n \\nestiver\\n \\nmoído)\\n \\na\\n \\nquatro\\n \\nsemanas\\n \\n(em\\n \\ngrãos)\\n \\nda\\n \\ndata\\n \\nda\\n \\ntorra.', mimetype='text/plain', start_char_idx=0, end_char_idx=884, metadata_seperator='\\n', text_template='{metadata_str}\\n\\n{content}')]"
            ]
          },
          "execution_count": 14,
          "metadata": {},
          "output_type": "execute_result"
        }
      ],
      "source": [
        "nodes"
      ]
    },
    {
      "cell_type": "code",
      "execution_count": 15,
      "metadata": {
        "colab": {
          "base_uri": "https://localhost:8080/"
        },
        "id": "WFrwshXBiOGR",
        "outputId": "5ad75b3f-f3d1-43f8-dfff-c21eec103f50"
      },
      "outputs": [
        {
          "data": {
            "text/plain": [
              "10"
            ]
          },
          "execution_count": 15,
          "metadata": {},
          "output_type": "execute_result"
        }
      ],
      "source": [
        "len(nodes)"
      ]
    },
    {
      "cell_type": "code",
      "execution_count": 16,
      "metadata": {
        "colab": {
          "base_uri": "https://localhost:8080/"
        },
        "id": "_NHfsuOViQcZ",
        "outputId": "7741d136-5956-4681-b13a-c68df21425d5"
      },
      "outputs": [
        {
          "data": {
            "text/plain": [
              "TextNode(id_='8c878ad6-8208-479e-b70b-974305a2a555', embedding=None, metadata={'page_label': '1', 'file_name': 'serenatto_cafes_especiais.pdf', 'file_path': '/content/documentos/serenatto_cafes_especiais.pdf', 'file_type': 'application/pdf', 'file_size': 133957, 'creation_date': '2025-03-12', 'last_modified_date': '2025-03-12'}, excluded_embed_metadata_keys=['file_name', 'file_type', 'file_size', 'creation_date', 'last_modified_date', 'last_accessed_date'], excluded_llm_metadata_keys=['file_name', 'file_type', 'file_size', 'creation_date', 'last_modified_date', 'last_accessed_date'], relationships={<NodeRelationship.SOURCE: '1'>: RelatedNodeInfo(node_id='05c544fa-5573-49e4-aafd-4042173388a8', node_type=<ObjectType.DOCUMENT: '4'>, metadata={'page_label': '1', 'file_name': 'serenatto_cafes_especiais.pdf', 'file_path': '/content/documentos/serenatto_cafes_especiais.pdf', 'file_type': 'application/pdf', 'file_size': 133957, 'creation_date': '2025-03-12', 'last_modified_date': '2025-03-12'}, hash='820b277edf233136c5afd69d8b63f74658d9de4c25893c4e5d205bcb010e8b2e')}, metadata_template='{key}: {value}', metadata_separator='\\n', text='Serenatto  –  Loja  online  de  cafés  especiais   Informações  gerais   P:  Quais  produtos  são  vendidos  no  site  da  Serenatto?  R:  A  Serenatto  é  uma  loja  online  especializada  na  venda  de  grãos  de  cafés  especiais,  \\noferecendo\\n \\ngrãos\\n \\ntorrados,\\n \\nprovenientes\\n \\nde\\n \\nfazendas\\n \\nselecionadas\\n \\nde\\n \\nMinas\\n \\nGerais.\\n \\nTodos\\n \\nos\\n \\nnossos\\n \\ncafés\\n \\npossuem\\n \\nnota\\n \\nSCA\\n \\nacima\\n \\nde\\n \\n80,\\n \\ngarantindo\\n \\nalta\\n \\nqualidade\\n \\ne\\n \\nperfis\\n \\nsensoriais\\n \\nexcepcionais.\\n  P:  De  onde  vêm  os  grãos  de  café  da  Serenatto?   R:  Nossos  grãos  são  cuidadosamente  selecionados  de  fazendas  localizadas  em  Minas  \\nGerais,\\n \\nconhecidas\\n \\npela\\n \\nalta\\n \\nqualidade\\n \\nde\\n \\nseus\\n \\ncafés\\n \\nespeciais.\\n \\nCada\\n \\nfazenda\\n \\né\\n \\nescolhida\\n \\npor\\n \\nsuas\\n \\npráticas\\n \\nsustentáveis\\n \\ne\\n \\npelo\\n \\ncuidado\\n \\nexcepcional\\n \\ncom\\n \\na\\n \\nprodução.\\n  P:  Qual  é  a  quantidade  vendida?  R:  Os  grãos  já  torrados  são  vendidos  em  pacotes  de  250g   P:  Quais  são  as  variedades  de  café  disponíveis?  R:  Trabalhamos  com  as  seguintes  variedades  de  café  em  grãos:  ●  Bourbon  vermelho  ●  Bourbon  amarelo  ●  Blend  especial  (Mistura  de  Bourbon  amarelo  e  vermelho)  ●  Catuaí  amarelo  ●  Geisha  ●  Yirgacheffe   P:  Quais  são  os  preços  de  cada  variedade  de  café?  R:  Os  preços  sãos  os  seguintes:  ●  Bourbon  vermelho:  R$  41,00  ●  Bourbon  amarelo:  R$  43,00  ●  Blend  especial:  R$  37,50  ●  Catuaí  amarelo:  R$  55,00  ●  Geisha:  R$  105,00  ●  Yirgacheffe:  R$  110,00', mimetype='text/plain', start_char_idx=0, end_char_idx=1515, metadata_seperator='\\n', text_template='{metadata_str}\\n\\n{content}')"
            ]
          },
          "execution_count": 16,
          "metadata": {},
          "output_type": "execute_result"
        }
      ],
      "source": [
        "nodes[0]"
      ]
    },
    {
      "cell_type": "code",
      "execution_count": 17,
      "metadata": {
        "colab": {
          "base_uri": "https://localhost:8080/"
        },
        "id": "JcmLnWo9iUSW",
        "outputId": "f99f81b3-9de9-41c0-daf9-86aba6d1b3b2"
      },
      "outputs": [
        {
          "data": {
            "text/plain": [
              "TextNode(id_='4cb01510-63e1-46d4-891f-74de84f85bb4', embedding=None, metadata={'page_label': '10', 'file_name': 'serenatto_cafes_especiais.pdf', 'file_path': '/content/documentos/serenatto_cafes_especiais.pdf', 'file_type': 'application/pdf', 'file_size': 133957, 'creation_date': '2025-03-12', 'last_modified_date': '2025-03-12'}, excluded_embed_metadata_keys=['file_name', 'file_type', 'file_size', 'creation_date', 'last_modified_date', 'last_accessed_date'], excluded_llm_metadata_keys=['file_name', 'file_type', 'file_size', 'creation_date', 'last_modified_date', 'last_accessed_date'], relationships={<NodeRelationship.SOURCE: '1'>: RelatedNodeInfo(node_id='73f99a16-33fd-4e81-8dba-970b8afffca9', node_type=<ObjectType.DOCUMENT: '4'>, metadata={'page_label': '10', 'file_name': 'serenatto_cafes_especiais.pdf', 'file_path': '/content/documentos/serenatto_cafes_especiais.pdf', 'file_type': 'application/pdf', 'file_size': 133957, 'creation_date': '2025-03-12', 'last_modified_date': '2025-03-12'}, hash='54ca4fc7b770a7c832c0b03e122cb6d0dfd82241edbe306a0161b80d8ed17a5a')}, metadata_template='{key}: {value}', metadata_separator='\\n', text='Armazenamento  e  validade   P:  Como  devo  armazenar  os  grãos  de  café  para  manter  a  qualidade?  R:  Recomendamos  armazenar  os  grãos  em  um  recipiente  hermético,  longe  da  umidade  \\ne\\n \\ncalor.\\n \\nEvite\\n \\nguardar\\n \\no\\n \\ncafé\\n \\nna\\n \\ngeladeira,\\n \\npois\\n \\na\\n \\numidade\\n \\ne\\n \\nas\\n \\nvariações\\n \\nde\\n \\ntemperatura\\n \\npodem\\n \\nprejudicar\\n \\no\\n \\nsabor\\n \\ne\\n \\no\\n \\naroma.\\n  P:  Qual  é  a  validade  dos  cafés  da  Serenatto?  R:  Nossos  cafés  são  enviados  recém-torrados  para  garantir  frescor.  Para  uma  \\nexperiência\\n \\nmelhor\\n \\ncom\\n \\nas\\n \\ncaracterísticas\\n \\ndas\\n \\nnotas\\n \\nsensoriais\\n \\ne\\n \\na\\n \\nintensidade\\n \\ndo\\n \\naroma,\\n \\no\\n \\nconsumo\\n \\ndeve\\n \\nser\\n \\nentre\\n \\ntrês\\n \\ne\\n \\nquatro\\n \\nmeses.\\n \\nNo\\n \\nentanto,\\n \\ndepois\\n \\nde\\n \\naberto,\\n \\no\\n \\nconsumo\\n \\ndeve\\n \\nser,\\n \\nde\\n \\npreferência,\\n \\nentre\\n \\nduas\\n \\n(quando\\n \\nestiver\\n \\nmoído)\\n \\na\\n \\nquatro\\n \\nsemanas\\n \\n(em\\n \\ngrãos)\\n \\nda\\n \\ndata\\n \\nda\\n \\ntorra.', mimetype='text/plain', start_char_idx=0, end_char_idx=884, metadata_seperator='\\n', text_template='{metadata_str}\\n\\n{content}')"
            ]
          },
          "execution_count": 17,
          "metadata": {},
          "output_type": "execute_result"
        }
      ],
      "source": [
        "nodes[9]"
      ]
    },
    {
      "cell_type": "code",
      "execution_count": 18,
      "metadata": {
        "id": "Ck228JX_ie7O"
      },
      "outputs": [],
      "source": [
        "#instalaçao da biblioteca do hugging face\n",
        "!pip install -q llama-index-embeddings-huggingface"
      ]
    },
    {
      "cell_type": "code",
      "execution_count": 19,
      "metadata": {
        "id": "GrmNVumCjM75"
      },
      "outputs": [],
      "source": [
        "# importa a biblioteca para fazer o embeding\n",
        "from llama_index.embeddings.huggingface import HuggingFaceEmbedding"
      ]
    },
    {
      "cell_type": "code",
      "execution_count": 20,
      "metadata": {
        "id": "JM0B_HUxjas-"
      },
      "outputs": [],
      "source": [
        "#cria classe personalizada para integrar ao Chroma Db\n",
        "\n",
        "class ChromaEmbeddingWrapper:\n",
        "  def __init__(self,model_name:str):\n",
        "    self.model = HuggingFaceEmbedding(model_name=model_name)\n",
        "\n",
        "\n",
        "  def __call__(self,input): # converte a entrada para o formato compativel com o\n",
        "  # Hugging Face\n",
        "    return self.model.embed(input)"
      ]
    },
    {
      "cell_type": "code",
      "execution_count": 21,
      "metadata": {
        "colab": {
          "base_uri": "https://localhost:8080/"
        },
        "id": "bF8p1wzHkJej",
        "outputId": "30ed3bba-c380-4bb0-bbd7-d612d1cd11db"
      },
      "outputs": [
        {
          "name": "stderr",
          "output_type": "stream",
          "text": [
            "/usr/local/lib/python3.11/dist-packages/huggingface_hub/utils/_auth.py:94: UserWarning: \n",
            "The secret `HF_TOKEN` does not exist in your Colab secrets.\n",
            "To authenticate with the Hugging Face Hub, create a token in your settings tab (https://huggingface.co/settings/tokens), set it as secret in your Google Colab and restart your session.\n",
            "You will be able to reuse this secret in all of your notebooks.\n",
            "Please note that authentication is recommended but still optional to access public models or datasets.\n",
            "  warnings.warn(\n"
          ]
        }
      ],
      "source": [
        "embed_model_chroma = ChromaEmbeddingWrapper(model_name='intfloat/multilingual-e5-large')"
      ]
    },
    {
      "cell_type": "code",
      "execution_count": 22,
      "metadata": {
        "id": "t562lyRck7SA"
      },
      "outputs": [],
      "source": [
        "#instalaçao do chroma db\n",
        "!pip install -q llama-index-vector-stores-chroma"
      ]
    },
    {
      "cell_type": "code",
      "execution_count": 23,
      "metadata": {
        "id": "TaDEbHBhlcZD"
      },
      "outputs": [],
      "source": [
        "#importando o chroma db\n",
        "\n",
        "import chromadb\n",
        "db = chromadb.PersistentClient(path='./chroma_db')\n",
        "chroma_client = db\n",
        "collection_name ='documentos_serenatto'\n",
        "\n",
        "try:\n",
        "  chroma_collection = chroma_client.get_or_create_collection(\n",
        "      name=collection_name,\n",
        "      embedding_function=embed_model_chroma\n",
        "  )\n",
        "except Exception as e:\n",
        "  print(f'Erro ao criar coleçao {e}')\n"
      ]
    },
    {
      "cell_type": "code",
      "execution_count": 24,
      "metadata": {
        "id": "rpgEtpW0mSvz"
      },
      "outputs": [],
      "source": [
        "from llama_index.vector_stores.chroma import ChromaVectorStore\n",
        "from llama_index.core import StorageContext"
      ]
    },
    {
      "cell_type": "code",
      "execution_count": 1,
      "metadata": {
        "id": "S3pnRchempuR"
      },
      "outputs": [
        {
          "ename": "NameError",
          "evalue": "name 'ChromaVectorStore' is not defined",
          "output_type": "error",
          "traceback": [
            "\u001b[1;31m---------------------------------------------------------------------------\u001b[0m",
            "\u001b[1;31mNameError\u001b[0m                                 Traceback (most recent call last)",
            "Cell \u001b[1;32mIn[1], line 2\u001b[0m\n\u001b[0;32m      1\u001b[0m \u001b[38;5;66;03m#criando a coleçao do banco de dados\u001b[39;00m\n\u001b[1;32m----> 2\u001b[0m vector_store \u001b[38;5;241m=\u001b[39m \u001b[43mChromaVectorStore\u001b[49m(chroma_collection\u001b[38;5;241m=\u001b[39mchroma_collection)\n\u001b[0;32m      3\u001b[0m storage_context \u001b[38;5;241m=\u001b[39m StorageContext\u001b[38;5;241m.\u001b[39mfrom_defaults(vector_store\u001b[38;5;241m=\u001b[39mvector_store)\n",
            "\u001b[1;31mNameError\u001b[0m: name 'ChromaVectorStore' is not defined"
          ]
        }
      ],
      "source": [
        "#criando a coleçao do banco de dados\n",
        "vector_store = ChromaVectorStore(chroma_collection=chroma_collection)\n",
        "storage_context = StorageContext.from_defaults(vector_store=vector_store)"
      ]
    },
    {
      "cell_type": "code",
      "execution_count": 26,
      "metadata": {
        "id": "HqnR7Uo-nQfr"
      },
      "outputs": [],
      "source": [
        "embed_model = HuggingFaceEmbedding(model_name='intfloat/multilingual-e5-large')"
      ]
    },
    {
      "cell_type": "code",
      "execution_count": 27,
      "metadata": {
        "id": "Qs14dXz8nebJ"
      },
      "outputs": [],
      "source": [
        "from llama_index.core import VectorStoreIndex"
      ]
    },
    {
      "cell_type": "code",
      "execution_count": 28,
      "metadata": {
        "colab": {
          "base_uri": "https://localhost:8080/"
        },
        "id": "AUY5J584nkWB",
        "outputId": "37329e74-c4e7-44d1-d81f-2418c8725566"
      },
      "outputs": [
        {
          "name": "stderr",
          "output_type": "stream",
          "text": [
            "WARNING:chromadb.segment.impl.vector.local_persistent_hnsw:Add of existing embedding ID: 3836db77-ece5-480e-a364-48f596538262\n",
            "WARNING:chromadb.segment.impl.vector.local_persistent_hnsw:Add of existing embedding ID: 0c972a02-7dc7-4cb5-9638-79800c924538\n",
            "WARNING:chromadb.segment.impl.vector.local_persistent_hnsw:Add of existing embedding ID: ccb6d97b-3594-400e-8a3c-0e6f292c2aff\n",
            "WARNING:chromadb.segment.impl.vector.local_persistent_hnsw:Add of existing embedding ID: 8bee68f4-beb9-43d9-9a71-e489b535274e\n",
            "WARNING:chromadb.segment.impl.vector.local_persistent_hnsw:Add of existing embedding ID: 8887a7bd-e80c-4d24-b669-235c6ca10228\n",
            "WARNING:chromadb.segment.impl.vector.local_persistent_hnsw:Add of existing embedding ID: 60ddb9f7-0f4a-48af-97f5-463bb954fc8a\n",
            "WARNING:chromadb.segment.impl.vector.local_persistent_hnsw:Add of existing embedding ID: 3270b1e4-01d8-44b6-9954-0f9f3e263dc3\n",
            "WARNING:chromadb.segment.impl.vector.local_persistent_hnsw:Add of existing embedding ID: e38ba428-c62c-4883-a08b-e56a24a73000\n",
            "WARNING:chromadb.segment.impl.vector.local_persistent_hnsw:Add of existing embedding ID: a6f0b92e-7b27-4e99-b515-5e86702b755f\n",
            "WARNING:chromadb.segment.impl.vector.local_persistent_hnsw:Add of existing embedding ID: 512176de-2f5a-48d5-bbf1-bfe018a94b79\n",
            "WARNING:chromadb.segment.impl.vector.local_persistent_hnsw:Add of existing embedding ID: 3836db77-ece5-480e-a364-48f596538262\n",
            "WARNING:chromadb.segment.impl.vector.local_persistent_hnsw:Add of existing embedding ID: 0c972a02-7dc7-4cb5-9638-79800c924538\n",
            "WARNING:chromadb.segment.impl.vector.local_persistent_hnsw:Add of existing embedding ID: ccb6d97b-3594-400e-8a3c-0e6f292c2aff\n",
            "WARNING:chromadb.segment.impl.vector.local_persistent_hnsw:Add of existing embedding ID: 8bee68f4-beb9-43d9-9a71-e489b535274e\n",
            "WARNING:chromadb.segment.impl.vector.local_persistent_hnsw:Add of existing embedding ID: 8887a7bd-e80c-4d24-b669-235c6ca10228\n",
            "WARNING:chromadb.segment.impl.vector.local_persistent_hnsw:Add of existing embedding ID: 60ddb9f7-0f4a-48af-97f5-463bb954fc8a\n",
            "WARNING:chromadb.segment.impl.vector.local_persistent_hnsw:Add of existing embedding ID: 3270b1e4-01d8-44b6-9954-0f9f3e263dc3\n",
            "WARNING:chromadb.segment.impl.vector.local_persistent_hnsw:Add of existing embedding ID: e38ba428-c62c-4883-a08b-e56a24a73000\n",
            "WARNING:chromadb.segment.impl.vector.local_persistent_hnsw:Add of existing embedding ID: a6f0b92e-7b27-4e99-b515-5e86702b755f\n",
            "WARNING:chromadb.segment.impl.vector.local_persistent_hnsw:Add of existing embedding ID: 512176de-2f5a-48d5-bbf1-bfe018a94b79\n",
            "WARNING:chromadb.segment.impl.vector.local_persistent_hnsw:Add of existing embedding ID: 3836db77-ece5-480e-a364-48f596538262\n",
            "WARNING:chromadb.segment.impl.vector.local_persistent_hnsw:Add of existing embedding ID: 0c972a02-7dc7-4cb5-9638-79800c924538\n",
            "WARNING:chromadb.segment.impl.vector.local_persistent_hnsw:Add of existing embedding ID: ccb6d97b-3594-400e-8a3c-0e6f292c2aff\n",
            "WARNING:chromadb.segment.impl.vector.local_persistent_hnsw:Add of existing embedding ID: 8bee68f4-beb9-43d9-9a71-e489b535274e\n",
            "WARNING:chromadb.segment.impl.vector.local_persistent_hnsw:Add of existing embedding ID: 8887a7bd-e80c-4d24-b669-235c6ca10228\n",
            "WARNING:chromadb.segment.impl.vector.local_persistent_hnsw:Add of existing embedding ID: 60ddb9f7-0f4a-48af-97f5-463bb954fc8a\n",
            "WARNING:chromadb.segment.impl.vector.local_persistent_hnsw:Add of existing embedding ID: 3270b1e4-01d8-44b6-9954-0f9f3e263dc3\n",
            "WARNING:chromadb.segment.impl.vector.local_persistent_hnsw:Add of existing embedding ID: e38ba428-c62c-4883-a08b-e56a24a73000\n",
            "WARNING:chromadb.segment.impl.vector.local_persistent_hnsw:Add of existing embedding ID: a6f0b92e-7b27-4e99-b515-5e86702b755f\n",
            "WARNING:chromadb.segment.impl.vector.local_persistent_hnsw:Add of existing embedding ID: 512176de-2f5a-48d5-bbf1-bfe018a94b79\n"
          ]
        }
      ],
      "source": [
        "index = VectorStoreIndex(nodes,storage_context=storage_context,\n",
        "                         embed_model=embed_model)"
      ]
    },
    {
      "cell_type": "code",
      "execution_count": 29,
      "metadata": {
        "id": "TGXXIs13oOvX"
      },
      "outputs": [],
      "source": [
        "\n",
        "from llama_index.core import load_index_from_storage\n",
        "\n"
      ]
    },
    {
      "cell_type": "code",
      "execution_count": 30,
      "metadata": {
        "id": "vrNCVubirAES"
      },
      "outputs": [],
      "source": [
        "index = load_index_from_storage(storage_context,embed_model = embed_model)"
      ]
    },
    {
      "cell_type": "code",
      "execution_count": 31,
      "metadata": {
        "id": "Pbdsq9_xrvEV"
      },
      "outputs": [],
      "source": [
        "from google.colab import userdata\n",
        "Groq_api = userdata.get('api_groq2_chat')"
      ]
    },
    {
      "cell_type": "code",
      "execution_count": 32,
      "metadata": {
        "id": "MjdisMDPsnSD"
      },
      "outputs": [],
      "source": [
        "!pip install -q llama-index-llms-groq"
      ]
    },
    {
      "cell_type": "code",
      "execution_count": 33,
      "metadata": {
        "id": "cDUItY1Ls_8P"
      },
      "outputs": [],
      "source": [
        "from llama_index.llms.groq import Groq"
      ]
    },
    {
      "cell_type": "code",
      "execution_count": 34,
      "metadata": {
        "id": "cKm7kdXttH2H"
      },
      "outputs": [],
      "source": [
        "llms = Groq(model='llama3-70b-8192',api_key=Groq_api)"
      ]
    },
    {
      "cell_type": "code",
      "execution_count": 35,
      "metadata": {
        "id": "VzZoVeKotSek"
      },
      "outputs": [],
      "source": [
        "query_engine = index.as_query_engine(llm=llms,similarity_top_key=2)"
      ]
    },
    {
      "cell_type": "code",
      "execution_count": 36,
      "metadata": {
        "colab": {
          "base_uri": "https://localhost:8080/",
          "height": 53
        },
        "id": "dVU-tlMYtd0-",
        "outputId": "a960c32c-7b2b-4909-bd20-acf693c2f0db"
      },
      "outputs": [
        {
          "data": {
            "application/vnd.google.colaboratory.intrinsic+json": {
              "type": "string"
            },
            "text/plain": [
              "'Trabalhamos com as seguintes variedades de café em grãos: Bourbon vermelho, Bourbon amarelo, Blend especial (Mistura de Bourbon amarelo e vermelho), Catuaí amarelo, Geisha, Yirgacheffe.'"
            ]
          },
          "execution_count": 36,
          "metadata": {},
          "output_type": "execute_result"
        }
      ],
      "source": [
        "query_engine.query('Quais graos estao disponiveis').response"
      ]
    },
    {
      "cell_type": "code",
      "execution_count": 37,
      "metadata": {
        "id": "GHzEfXK0toiP"
      },
      "outputs": [],
      "source": [
        "query_embedding = embed_model.get_text_embedding('Quais graos estao disponiveis ?')"
      ]
    },
    {
      "cell_type": "code",
      "execution_count": 38,
      "metadata": {
        "colab": {
          "base_uri": "https://localhost:8080/"
        },
        "id": "lJgZTjiMt2Aj",
        "outputId": "c1b23fa9-251b-406b-fc72-80dd31004e5f"
      },
      "outputs": [
        {
          "data": {
            "text/plain": [
              "{'ids': [['3836db77-ece5-480e-a364-48f596538262',\n",
              "   '8c878ad6-8208-479e-b70b-974305a2a555']],\n",
              " 'embeddings': [array([[ 0.01460024, -0.01119941, -0.00576889, ...,  0.00555894,\n",
              "          -0.0503395 ,  0.00342874],\n",
              "         [ 0.01460024, -0.01119941, -0.00576889, ...,  0.00555894,\n",
              "          -0.0503395 ,  0.00342874]])],\n",
              " 'documents': None,\n",
              " 'uris': None,\n",
              " 'data': None,\n",
              " 'metadatas': None,\n",
              " 'distances': [[0.3871879346745659, 0.3871879346745659]],\n",
              " 'included': [<IncludeEnum.embeddings: 'embeddings'>,\n",
              "  <IncludeEnum.distances: 'distances'>]}"
            ]
          },
          "execution_count": 38,
          "metadata": {},
          "output_type": "execute_result"
        }
      ],
      "source": [
        "chroma_collection.query(query_embedding,n_results=2,include=['distances','embeddings'])"
      ]
    },
    {
      "cell_type": "code",
      "execution_count": 39,
      "metadata": {
        "id": "nRTID_PbuN8T"
      },
      "outputs": [],
      "source": [
        "chat_engine = index.as_chat_engine(llm=llms)"
      ]
    },
    {
      "cell_type": "code",
      "execution_count": 40,
      "metadata": {
        "colab": {
          "base_uri": "https://localhost:8080/"
        },
        "id": "N-Ozrr5cuTDS",
        "outputId": "77c369ec-57a7-45ac-dd3f-a9b619136152"
      },
      "outputs": [
        {
          "name": "stdout",
          "output_type": "stream",
          "text": [
            "Os grãos disponíveis são Bourbon vermelho, Bourbon amarelo, Blend especial (uma mistura de Bourbon amarelo e vermelho), Catuaí amarelo, Geisha e Yirgacheffe.\n"
          ]
        }
      ],
      "source": [
        "pergunta = chat_engine.chat('Quais graos estao disponiveis ?').response\n",
        "print(pergunta)"
      ]
    },
    {
      "cell_type": "code",
      "execution_count": 41,
      "metadata": {
        "colab": {
          "base_uri": "https://localhost:8080/"
        },
        "id": "ZGs7wB6bugXg",
        "outputId": "069c754b-7b29-4785-99ed-3428a0d3814e"
      },
      "outputs": [
        {
          "name": "stdout",
          "output_type": "stream",
          "text": [
            "O Catuai amarelo é uma variedade de café que se destaca por sua doçura máxima (5/5), corpo médio a alto (4/5) e baixa amargura (1/5). Além disso, apresenta uma acidez expressiva e notas de pitanga, o que a torna uma experiência de café única e diferenciada.\n"
          ]
        }
      ],
      "source": [
        "pergunta = chat_engine.chat('Voce poderia me dar mais detalhes sobre o Catuai amarelo').response\n",
        "print(pergunta)"
      ]
    },
    {
      "cell_type": "code",
      "execution_count": 42,
      "metadata": {
        "colab": {
          "base_uri": "https://localhost:8080/"
        },
        "id": "DOj2OcUqu1NU",
        "outputId": "665ea3af-4283-4b49-ad73-e2f4238c68df"
      },
      "outputs": [
        {
          "name": "stdout",
          "output_type": "stream",
          "text": [
            "O preço do Catuai amarelo é de R$ 55,00.\n"
          ]
        }
      ],
      "source": [
        "pergunta = chat_engine.chat('Qual o preço dele ?').response\n",
        "print(pergunta)"
      ]
    },
    {
      "cell_type": "code",
      "execution_count": 43,
      "metadata": {
        "colab": {
          "base_uri": "https://localhost:8080/"
        },
        "id": "FkBc7xREu8O0",
        "outputId": "e5bb2d7c-ab0f-490a-84af-cc9c6ae9940c"
      },
      "outputs": [
        {
          "data": {
            "text/plain": [
              "[ChatMessage(role=<MessageRole.USER: 'user'>, additional_kwargs={}, blocks=[TextBlock(block_type='text', text='Quais graos estao disponiveis ?')]),\n",
              " ChatMessage(role=<MessageRole.ASSISTANT: 'assistant'>, additional_kwargs={}, blocks=[TextBlock(block_type='text', text='Os grãos disponíveis são Bourbon vermelho, Bourbon amarelo, Blend especial (uma mistura de Bourbon amarelo e vermelho), Catuaí amarelo, Geisha e Yirgacheffe.')]),\n",
              " ChatMessage(role=<MessageRole.USER: 'user'>, additional_kwargs={}, blocks=[TextBlock(block_type='text', text='Voce poderia me dar mais detalhes sobre o Catuai amarelo')]),\n",
              " ChatMessage(role=<MessageRole.ASSISTANT: 'assistant'>, additional_kwargs={}, blocks=[TextBlock(block_type='text', text='O Catuai amarelo é uma variedade de café que se destaca por sua doçura máxima (5/5), corpo médio a alto (4/5) e baixa amargura (1/5). Além disso, apresenta uma acidez expressiva e notas de pitanga, o que a torna uma experiência de café única e diferenciada.')]),\n",
              " ChatMessage(role=<MessageRole.USER: 'user'>, additional_kwargs={}, blocks=[TextBlock(block_type='text', text='Qual o preço dele ?')]),\n",
              " ChatMessage(role=<MessageRole.ASSISTANT: 'assistant'>, additional_kwargs={}, blocks=[TextBlock(block_type='text', text='O preço do Catuai amarelo é de R$ 55,00.')])]"
            ]
          },
          "execution_count": 43,
          "metadata": {},
          "output_type": "execute_result"
        }
      ],
      "source": [
        "chat_engine.chat_history # mostra o historico do chat"
      ]
    },
    {
      "cell_type": "code",
      "execution_count": 44,
      "metadata": {
        "id": "XUayn6NyvHCk"
      },
      "outputs": [],
      "source": [
        "# criando um buffer\n",
        "from llama_index.core.memory import ChatSummaryMemoryBuffer"
      ]
    },
    {
      "cell_type": "code",
      "execution_count": 45,
      "metadata": {
        "id": "NXnX-8yavNmr"
      },
      "outputs": [],
      "source": [
        "memory = ChatSummaryMemoryBuffer(llm=llms,token_limit=256)"
      ]
    },
    {
      "cell_type": "code",
      "execution_count": 46,
      "metadata": {
        "id": "En35PEN5vdI7"
      },
      "outputs": [],
      "source": [
        "chat_engine = index.as_chat_engine(\n",
        "    chat_mode = 'context',\n",
        "    llm=llms,\n",
        "    memory=memory,\n",
        "    system_prompt=('''Voce é especialista em cafes da loja Serenato, uma loja\n",
        "    que vende graos de cafe torrados, sua funçao é tirar duvidas de\n",
        "     forma simpatica e natural sobre\n",
        "    os graos disponiveis''')\n",
        "    )"
      ]
    },
    {
      "cell_type": "code",
      "execution_count": 47,
      "metadata": {
        "colab": {
          "base_uri": "https://localhost:8080/"
        },
        "id": "b4F75hG2wIxG",
        "outputId": "b9132a10-6dc9-4a09-d8fc-269f4b6c659a"
      },
      "outputs": [
        {
          "name": "stdout",
          "output_type": "stream",
          "text": [
            "Olá! Eu sou especialista em cafés da loja Serenatto. Estou aqui para ajudar a tirar suas dúvidas sobre nossos graos de café torrados. Qual é sua pergunta sobre nossos cafés especiais?\n"
          ]
        }
      ],
      "source": [
        "response = chat_engine.chat('Ola')\n",
        "print(response)"
      ]
    },
    {
      "cell_type": "code",
      "execution_count": 48,
      "metadata": {
        "colab": {
          "base_uri": "https://localhost:8080/"
        },
        "id": "3J_JYqxJwmGN",
        "outputId": "c2839e31-39f5-4ddd-e85d-bddbcdff284b"
      },
      "outputs": [
        {
          "name": "stdout",
          "output_type": "stream",
          "text": [
            "Excelente escolha!\n",
            "\n",
            "Nós temos dois tipos de café Bourbon: o Bourbon Vermelho e o Bourbon Amarelo. Aqui vão as características de cada um:\n",
            "\n",
            "**Bourbon Vermelho:**\n",
            "\n",
            "* Doçura intensa (5/5)\n",
            "* Corpo encorpado (5/5)\n",
            "* Acidez baixa (1/5)\n",
            "* Amargor leve (2/5)\n",
            "* Notas de chocolate\n",
            "* Processo de produção natural, cultivado em altitudes entre 1.200m e 1.450m, com torra média escura.\n",
            "\n",
            "**Bourbon Amarelo:**\n",
            "\n",
            "* Doçura moderada (3/5)\n",
            "* Corpo médio (3/5)\n",
            "* Acidez alta (5/5)\n",
            "* Amargor baixo (1/5)\n",
            "* Notas de frutas cítricas, incluindo maracujá, ameixa e nêspera\n",
            "* Processo de produção cereja descascado, cultivado em altitudes entre 1.200m e 1.450m, com torra média clara.\n",
            "\n",
            "Ambos os cafés Bourbon são deliciosos e únicos em suas características. Qual é sua preferência?\n"
          ]
        }
      ],
      "source": [
        "response = chat_engine.chat('Quais as caracteristicas do cafe bourbon')\n",
        "print(response)"
      ]
    },
    {
      "cell_type": "code",
      "execution_count": 49,
      "metadata": {
        "colab": {
          "base_uri": "https://localhost:8080/"
        },
        "id": "rFyc14yOwuBl",
        "outputId": "13e7236a-83be-4e75-fa57-32af138c3fc1"
      },
      "outputs": [
        {
          "name": "stdout",
          "output_type": "stream",
          "text": [
            "O preço do Bourbon Vermelho é de R$ 41,00 e do Bourbon Amarelo é de R$ 43,00.\n"
          ]
        }
      ],
      "source": [
        "response = chat_engine.chat('Qual o preço dele ?')\n",
        "print(response)"
      ]
    },
    {
      "cell_type": "code",
      "execution_count": 50,
      "metadata": {
        "colab": {
          "base_uri": "https://localhost:8080/"
        },
        "id": "hDwfY323w2Kl",
        "outputId": "b75eb530-f57e-4cd7-ff35-142f92408343"
      },
      "outputs": [
        {
          "data": {
            "text/plain": [
              "[ChatMessage(role=<MessageRole.SYSTEM: 'system'>, additional_kwargs={}, blocks=[TextBlock(block_type='text', text=\"This is a conversation between a user and a coffee expert assistant from Serenatto coffee shop. The user asks about the characteristics of Bourbon coffee, and the assistant responds by explaining the differences between two types of Bourbon coffee: Bourbon Vermelho (Red Bourbon) and Bourbon Amarelo (Yellow Bourbon).\\n\\nHere's a summary of the characteristics of each type:\\n\\n**Bourbon Vermelho (Red Bourbon)**\\n\\n* Very sweet (5/5)\\n* Full-bodied (5/5)\\n* Low acidity (1/5)\\n* Light bitterness (2/5)\\n* Chocolate notes\\n* Naturally processed, grown at high altitudes (1,200-1,450m), with a medium-dark roast.\\n\\n**Bourbon Amarelo (Yellow Bourbon)**\\n\\n* Moderately sweet (3/5)\\n* Medium-bodied (3/5)\\n* High acidity (5/5)\\n* Low bitterness (1/5)\\n* Citrus fruit notes (e.g., passionfruit, plum, and cherry)\\n* Cherry-processed, grown at high altitudes (1,200-1,450m), with a medium-light roast.\\n\\nThe assistant asks the user which type they prefer.\")]),\n",
              " ChatMessage(role=<MessageRole.USER: 'user'>, additional_kwargs={}, blocks=[TextBlock(block_type='text', text='Qual o preço dele ?')]),\n",
              " ChatMessage(role=<MessageRole.ASSISTANT: 'assistant'>, additional_kwargs={}, blocks=[TextBlock(block_type='text', text='O preço do Bourbon Vermelho é de R$ 41,00 e do Bourbon Amarelo é de R$ 43,00.')])]"
            ]
          },
          "execution_count": 50,
          "metadata": {},
          "output_type": "execute_result"
        }
      ],
      "source": [
        "memory.get()"
      ]
    },
    {
      "cell_type": "code",
      "execution_count": 51,
      "metadata": {
        "id": "5c-m6MAww5NT"
      },
      "outputs": [],
      "source": [
        "# resetando o chat\n",
        "chat_engine.reset()"
      ]
    },
    {
      "cell_type": "code",
      "execution_count": 52,
      "metadata": {
        "colab": {
          "base_uri": "https://localhost:8080/"
        },
        "id": "d6mhSJC5w-Ha",
        "outputId": "705175ba-aa48-4d3c-da43-0e2e942d12fe"
      },
      "outputs": [
        {
          "name": "stdout",
          "output_type": "stream",
          "text": [
            "Olá!\n",
            "\n",
            "Você está perguntando sobre o preço de um dos nossos cafés especiais, certo?\n",
            "\n",
            "Podemos oferecer várias opções incríveis! Temos o Bourbon Vermelho por R$ 41,00, o Bourbon Amarelo por R$ 43,00, o Blend Especial por R$ 37,50, o Catuaí Amarelo por R$ 55,00, a Geisha por R$ 105,00 e o Yirgacheffe por R$ 110,00.\n",
            "\n",
            "Qual é o seu café favorito?\n"
          ]
        }
      ],
      "source": [
        "response = chat_engine.chat('Qual o preço dele ?')\n",
        "print(response)"
      ]
    },
    {
      "cell_type": "code",
      "execution_count": null,
      "metadata": {
        "id": "bgo9V_rfxDdT"
      },
      "outputs": [],
      "source": [
        "#implementando a interface com o Gradio\n",
        "!pip install gradio"
      ]
    },
    {
      "cell_type": "code",
      "execution_count": 55,
      "metadata": {
        "id": "6Ec0UdB90p3I"
      },
      "outputs": [],
      "source": [
        "import gradio as gr"
      ]
    },
    {
      "cell_type": "code",
      "execution_count": 59,
      "metadata": {
        "id": "LusSXGcQzTdd"
      },
      "outputs": [],
      "source": [
        "def converse_com_bot(message,chat_history):\n",
        "  response = chat_engine.chat(message)\n",
        "\n",
        "  if chat_history is None:\n",
        "    chat_history = []\n",
        "\n",
        "  chat_history.append({\"role\":\"user\",\"content\":message})\n",
        "  chat_history.append({\"role\":\"assistant\",\"content\":response.response})\n",
        "\n",
        "  return \"\", chat_history\n",
        "\n",
        "  #criando funçao para resetar o chatbot\n",
        "\n",
        "def resetar_chat():\n",
        "    chat_engine.reset()\n",
        "    return []"
      ]
    },
    {
      "cell_type": "code",
      "execution_count": null,
      "metadata": {
        "colab": {
          "base_uri": "https://localhost:8080/",
          "height": 645
        },
        "id": "5sMeMTyj0HYa",
        "outputId": "58ac7e43-3bad-453f-a303-0d6f221ae279"
      },
      "outputs": [
        {
          "name": "stdout",
          "output_type": "stream",
          "text": [
            "Running Gradio in a Colab notebook requires sharing enabled. Automatically setting `share=True` (you can turn this off by setting `share=False` in `launch()` explicitly).\n",
            "\n",
            "Colab notebook detected. This cell will run indefinitely so that you can see errors and logs. To turn off, set debug=False in launch().\n",
            "* Running on public URL: https://d34a47828e549b9d55.gradio.live\n",
            "\n",
            "This share link expires in 72 hours. For free permanent hosting and GPU upgrades, run `gradio deploy` from the terminal in the working directory to deploy to Hugging Face Spaces (https://huggingface.co/spaces)\n"
          ]
        },
        {
          "data": {
            "text/html": [
              "<div><iframe src=\"https://d34a47828e549b9d55.gradio.live\" width=\"100%\" height=\"500\" allow=\"autoplay; camera; microphone; clipboard-read; clipboard-write;\" frameborder=\"0\" allowfullscreen></iframe></div>"
            ],
            "text/plain": [
              "<IPython.core.display.HTML object>"
            ]
          },
          "metadata": {},
          "output_type": "display_data"
        }
      ],
      "source": [
        "with gr.Blocks() as app:\n",
        "    gr.Markdown('#Chatbot da Serenato')\n",
        "    chatbot = gr.Chatbot(type= 'messages')\n",
        "    msg = gr.Textbox(label='Digite sua mensagem')\n",
        "    limpar = gr.Button('Limpar')\n",
        "    msg.submit(converse_com_bot,[msg,chatbot],[msg,chatbot])\n",
        "    limpar.click(resetar_chat,None,chatbot,queue= False)\n",
        "    app.launch(debug=True)\n"
      ]
    }
  ],
  "metadata": {
    "colab": {
      "provenance": []
    },
    "kernelspec": {
      "display_name": "Python 3",
      "name": "python3"
    },
    "language_info": {
      "codemirror_mode": {
        "name": "ipython",
        "version": 3
      },
      "file_extension": ".py",
      "mimetype": "text/x-python",
      "name": "python",
      "nbconvert_exporter": "python",
      "pygments_lexer": "ipython3",
      "version": "3.13.2"
    },
    "widgets": {
      "application/vnd.jupyter.widget-state+json": {
        "045e012bb79b4e168c8bf335f3f3ab67": {
          "model_module": "@jupyter-widgets/controls",
          "model_module_version": "1.5.0",
          "model_name": "HTMLModel",
          "state": {
            "_dom_classes": [],
            "_model_module": "@jupyter-widgets/controls",
            "_model_module_version": "1.5.0",
            "_model_name": "HTMLModel",
            "_view_count": null,
            "_view_module": "@jupyter-widgets/controls",
            "_view_module_version": "1.5.0",
            "_view_name": "HTMLView",
            "description": "",
            "description_tooltip": null,
            "layout": "IPY_MODEL_9ccce65cb50d4ef19b67006791f09242",
            "placeholder": "​",
            "style": "IPY_MODEL_134349730c644e468f1d94547febe613",
            "value": "Parsing nodes: 100%"
          }
        },
        "134349730c644e468f1d94547febe613": {
          "model_module": "@jupyter-widgets/controls",
          "model_module_version": "1.5.0",
          "model_name": "DescriptionStyleModel",
          "state": {
            "_model_module": "@jupyter-widgets/controls",
            "_model_module_version": "1.5.0",
            "_model_name": "DescriptionStyleModel",
            "_view_count": null,
            "_view_module": "@jupyter-widgets/base",
            "_view_module_version": "1.2.0",
            "_view_name": "StyleView",
            "description_width": ""
          }
        },
        "70216f14556a48388843a51db79d7c78": {
          "model_module": "@jupyter-widgets/controls",
          "model_module_version": "1.5.0",
          "model_name": "HBoxModel",
          "state": {
            "_dom_classes": [],
            "_model_module": "@jupyter-widgets/controls",
            "_model_module_version": "1.5.0",
            "_model_name": "HBoxModel",
            "_view_count": null,
            "_view_module": "@jupyter-widgets/controls",
            "_view_module_version": "1.5.0",
            "_view_name": "HBoxView",
            "box_style": "",
            "children": [
              "IPY_MODEL_045e012bb79b4e168c8bf335f3f3ab67",
              "IPY_MODEL_89a07082e08540bbb0ab2efce0dd13bf",
              "IPY_MODEL_c74b1e27571f448ca2177b01acc303ba"
            ],
            "layout": "IPY_MODEL_ccd36231015648c581689ac3aac1877a"
          }
        },
        "89a07082e08540bbb0ab2efce0dd13bf": {
          "model_module": "@jupyter-widgets/controls",
          "model_module_version": "1.5.0",
          "model_name": "FloatProgressModel",
          "state": {
            "_dom_classes": [],
            "_model_module": "@jupyter-widgets/controls",
            "_model_module_version": "1.5.0",
            "_model_name": "FloatProgressModel",
            "_view_count": null,
            "_view_module": "@jupyter-widgets/controls",
            "_view_module_version": "1.5.0",
            "_view_name": "ProgressView",
            "bar_style": "success",
            "description": "",
            "description_tooltip": null,
            "layout": "IPY_MODEL_e8d5290cf51344c98491e50539d88839",
            "max": 10,
            "min": 0,
            "orientation": "horizontal",
            "style": "IPY_MODEL_c08d398296214168ba8692cf4930a29a",
            "value": 10
          }
        },
        "98663929ac4c4c329c3a96328debdcd7": {
          "model_module": "@jupyter-widgets/controls",
          "model_module_version": "1.5.0",
          "model_name": "DescriptionStyleModel",
          "state": {
            "_model_module": "@jupyter-widgets/controls",
            "_model_module_version": "1.5.0",
            "_model_name": "DescriptionStyleModel",
            "_view_count": null,
            "_view_module": "@jupyter-widgets/base",
            "_view_module_version": "1.2.0",
            "_view_name": "StyleView",
            "description_width": ""
          }
        },
        "9ccce65cb50d4ef19b67006791f09242": {
          "model_module": "@jupyter-widgets/base",
          "model_module_version": "1.2.0",
          "model_name": "LayoutModel",
          "state": {
            "_model_module": "@jupyter-widgets/base",
            "_model_module_version": "1.2.0",
            "_model_name": "LayoutModel",
            "_view_count": null,
            "_view_module": "@jupyter-widgets/base",
            "_view_module_version": "1.2.0",
            "_view_name": "LayoutView",
            "align_content": null,
            "align_items": null,
            "align_self": null,
            "border": null,
            "bottom": null,
            "display": null,
            "flex": null,
            "flex_flow": null,
            "grid_area": null,
            "grid_auto_columns": null,
            "grid_auto_flow": null,
            "grid_auto_rows": null,
            "grid_column": null,
            "grid_gap": null,
            "grid_row": null,
            "grid_template_areas": null,
            "grid_template_columns": null,
            "grid_template_rows": null,
            "height": null,
            "justify_content": null,
            "justify_items": null,
            "left": null,
            "margin": null,
            "max_height": null,
            "max_width": null,
            "min_height": null,
            "min_width": null,
            "object_fit": null,
            "object_position": null,
            "order": null,
            "overflow": null,
            "overflow_x": null,
            "overflow_y": null,
            "padding": null,
            "right": null,
            "top": null,
            "visibility": null,
            "width": null
          }
        },
        "c08d398296214168ba8692cf4930a29a": {
          "model_module": "@jupyter-widgets/controls",
          "model_module_version": "1.5.0",
          "model_name": "ProgressStyleModel",
          "state": {
            "_model_module": "@jupyter-widgets/controls",
            "_model_module_version": "1.5.0",
            "_model_name": "ProgressStyleModel",
            "_view_count": null,
            "_view_module": "@jupyter-widgets/base",
            "_view_module_version": "1.2.0",
            "_view_name": "StyleView",
            "bar_color": null,
            "description_width": ""
          }
        },
        "c74b1e27571f448ca2177b01acc303ba": {
          "model_module": "@jupyter-widgets/controls",
          "model_module_version": "1.5.0",
          "model_name": "HTMLModel",
          "state": {
            "_dom_classes": [],
            "_model_module": "@jupyter-widgets/controls",
            "_model_module_version": "1.5.0",
            "_model_name": "HTMLModel",
            "_view_count": null,
            "_view_module": "@jupyter-widgets/controls",
            "_view_module_version": "1.5.0",
            "_view_name": "HTMLView",
            "description": "",
            "description_tooltip": null,
            "layout": "IPY_MODEL_fc366062007a4357be2f2e58c8881f3d",
            "placeholder": "​",
            "style": "IPY_MODEL_98663929ac4c4c329c3a96328debdcd7",
            "value": " 10/10 [00:00&lt;00:00, 142.46it/s]"
          }
        },
        "ccd36231015648c581689ac3aac1877a": {
          "model_module": "@jupyter-widgets/base",
          "model_module_version": "1.2.0",
          "model_name": "LayoutModel",
          "state": {
            "_model_module": "@jupyter-widgets/base",
            "_model_module_version": "1.2.0",
            "_model_name": "LayoutModel",
            "_view_count": null,
            "_view_module": "@jupyter-widgets/base",
            "_view_module_version": "1.2.0",
            "_view_name": "LayoutView",
            "align_content": null,
            "align_items": null,
            "align_self": null,
            "border": null,
            "bottom": null,
            "display": null,
            "flex": null,
            "flex_flow": null,
            "grid_area": null,
            "grid_auto_columns": null,
            "grid_auto_flow": null,
            "grid_auto_rows": null,
            "grid_column": null,
            "grid_gap": null,
            "grid_row": null,
            "grid_template_areas": null,
            "grid_template_columns": null,
            "grid_template_rows": null,
            "height": null,
            "justify_content": null,
            "justify_items": null,
            "left": null,
            "margin": null,
            "max_height": null,
            "max_width": null,
            "min_height": null,
            "min_width": null,
            "object_fit": null,
            "object_position": null,
            "order": null,
            "overflow": null,
            "overflow_x": null,
            "overflow_y": null,
            "padding": null,
            "right": null,
            "top": null,
            "visibility": null,
            "width": null
          }
        },
        "e8d5290cf51344c98491e50539d88839": {
          "model_module": "@jupyter-widgets/base",
          "model_module_version": "1.2.0",
          "model_name": "LayoutModel",
          "state": {
            "_model_module": "@jupyter-widgets/base",
            "_model_module_version": "1.2.0",
            "_model_name": "LayoutModel",
            "_view_count": null,
            "_view_module": "@jupyter-widgets/base",
            "_view_module_version": "1.2.0",
            "_view_name": "LayoutView",
            "align_content": null,
            "align_items": null,
            "align_self": null,
            "border": null,
            "bottom": null,
            "display": null,
            "flex": null,
            "flex_flow": null,
            "grid_area": null,
            "grid_auto_columns": null,
            "grid_auto_flow": null,
            "grid_auto_rows": null,
            "grid_column": null,
            "grid_gap": null,
            "grid_row": null,
            "grid_template_areas": null,
            "grid_template_columns": null,
            "grid_template_rows": null,
            "height": null,
            "justify_content": null,
            "justify_items": null,
            "left": null,
            "margin": null,
            "max_height": null,
            "max_width": null,
            "min_height": null,
            "min_width": null,
            "object_fit": null,
            "object_position": null,
            "order": null,
            "overflow": null,
            "overflow_x": null,
            "overflow_y": null,
            "padding": null,
            "right": null,
            "top": null,
            "visibility": null,
            "width": null
          }
        },
        "fc366062007a4357be2f2e58c8881f3d": {
          "model_module": "@jupyter-widgets/base",
          "model_module_version": "1.2.0",
          "model_name": "LayoutModel",
          "state": {
            "_model_module": "@jupyter-widgets/base",
            "_model_module_version": "1.2.0",
            "_model_name": "LayoutModel",
            "_view_count": null,
            "_view_module": "@jupyter-widgets/base",
            "_view_module_version": "1.2.0",
            "_view_name": "LayoutView",
            "align_content": null,
            "align_items": null,
            "align_self": null,
            "border": null,
            "bottom": null,
            "display": null,
            "flex": null,
            "flex_flow": null,
            "grid_area": null,
            "grid_auto_columns": null,
            "grid_auto_flow": null,
            "grid_auto_rows": null,
            "grid_column": null,
            "grid_gap": null,
            "grid_row": null,
            "grid_template_areas": null,
            "grid_template_columns": null,
            "grid_template_rows": null,
            "height": null,
            "justify_content": null,
            "justify_items": null,
            "left": null,
            "margin": null,
            "max_height": null,
            "max_width": null,
            "min_height": null,
            "min_width": null,
            "object_fit": null,
            "object_position": null,
            "order": null,
            "overflow": null,
            "overflow_x": null,
            "overflow_y": null,
            "padding": null,
            "right": null,
            "top": null,
            "visibility": null,
            "width": null
          }
        }
      }
    }
  },
  "nbformat": 4,
  "nbformat_minor": 0
}
