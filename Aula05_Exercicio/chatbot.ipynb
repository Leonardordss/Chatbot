{
 "cells": [
  {
   "cell_type": "code",
   "execution_count": null,
   "metadata": {},
   "outputs": [],
   "source": [
    "## Instala os pacotes necessários: gradio (para interface) e Groq (para o modelo de IA)\n",
    "pip install gradio"
   ]
  },
  {
   "cell_type": "code",
   "execution_count": null,
   "metadata": {},
   "outputs": [],
   "source": [
    "pip install Groq"
   ]
  },
  {
   "cell_type": "code",
   "execution_count": null,
   "metadata": {},
   "outputs": [],
   "source": [
    "## Importa as bibliotecas necessárias\n",
    "import gradio as gr"
   ]
  },
  {
   "cell_type": "code",
   "execution_count": null,
   "metadata": {},
   "outputs": [],
   "source": [
    "#cria a função hello\n",
    "def hello(name):\n",
    "    return f\"Olá {name} !\"\n",
    "iface = gr.Interface(fn=hello, inputs=\"text\", outputs=\"text\")\n",
    "iface.launch()"
   ]
  },
  {
   "cell_type": "code",
   "execution_count": 5,
   "metadata": {},
   "outputs": [],
   "source": [
    "import os\n",
    "import gradio as gr\n",
    "from groq import Groq"
   ]
  },
  {
   "cell_type": "code",
   "execution_count": null,
   "metadata": {},
   "outputs": [],
   "source": [
    "## Define a chave da API do Groq, buscando a variável de ambiente ou utilizando uma chave padrão\n",
    "GROQ_API_KEY = os.getenv('GROQ_API_KEY','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')\n",
    "\n",
    "client = Groq(api_key=GROQ_API_KEY)"
   ]
  },
  {
   "cell_type": "code",
   "execution_count": null,
   "metadata": {},
   "outputs": [
    {
     "name": "stdout",
     "output_type": "stream",
     "text": [
      "* Running on local URL:  http://127.0.0.1:7861\n",
      "\n",
      "To create a public link, set `share=True` in `launch()`.\n"
     ]
    },
    {
     "data": {
      "text/html": [
       "<div><iframe src=\"http://127.0.0.1:7861/\" width=\"100%\" height=\"500\" allow=\"autoplay; camera; microphone; clipboard-read; clipboard-write;\" frameborder=\"0\" allowfullscreen></iframe></div>"
      ],
      "text/plain": [
       "<IPython.core.display.HTML object>"
      ]
     },
     "metadata": {},
     "output_type": "display_data"
    }
   ],
   "source": [
    "## Função para processar a entrada de dados do usuário e gerar uma resposta do modelo IA\n",
    "def assistente_quimica_fisica(user_prompt):\n",
    "    if user_prompt.strip()==\"15\":\n",
    "        return \"Encerrando assistente ! Até mais !!\"\n",
    "    \n",
    "    #faz a solicitaçao para o modelo LLM\n",
    "    completion = client.chat.completions.create(\n",
    "        model=\"llama3-8b-8192\",\n",
    "        messages =[\n",
    "            {\n",
    "              \"role\":\"system\",\"content\":\"Voce é um assistente especializado em Química e Física\"},\n",
    "              {\"role\":\"user\",\"content\":user_prompt}\n",
    "        ],\n",
    "        temperature=0,\n",
    "        max_tokens=1024,\n",
    "        top_p=1,\n",
    "        stream=False\n",
    "    )\n",
    "\n",
    "    #Retorna a resposta do assistente\n",
    "\n",
    "    return completion.choices[0].message.content\n",
    "\n",
    "\n",
    "\n",
    "#Configura a interface do Gradio\n",
    "iface = gr.Interface(\n",
    "   fn=assistente_quimica_fisica,\n",
    "   inputs=gr.Textbox(lines=2,placeholder= \"Digite sua pergunta sobre Química ou Física\"),\n",
    "   outputs=\"text\",\n",
    "   title=\"Assistente Especialista em Química e Física\",\n",
    "   description=\"Digite sua pergunta sobre Química ou Física e receba respostas da IA especialista\",\n",
    "   live = True\n",
    ")\n",
    "\n",
    "# Executa a interface web\n",
    "\n",
    "if __name__ == \"__main__\":\n",
    "    iface.launch()"
   ]
  }
 ],
 "metadata": {
  "kernelspec": {
   "display_name": "Python 3",
   "language": "python",
   "name": "python3"
  },
  "language_info": {
   "codemirror_mode": {
    "name": "ipython",
    "version": 3
   },
   "file_extension": ".py",
   "mimetype": "text/x-python",
   "name": "python",
   "nbconvert_exporter": "python",
   "pygments_lexer": "ipython3",
   "version": "3.11.5"
  }
 },
 "nbformat": 4,
 "nbformat_minor": 2
}
